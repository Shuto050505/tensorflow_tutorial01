{
 "cells": [
  {
   "cell_type": "code",
   "execution_count": 1,
   "metadata": {
    "ExecuteTime": {
     "end_time": "2017-03-08T02:45:56.636976",
     "start_time": "2017-03-08T02:45:53.922179"
    },
    "collapsed": false
   },
   "outputs": [],
   "source": [
    "import tensorflow as tf\n",
    "import numpy as np\n",
    "import pandas as pd\n",
    "from pandas import Series\n",
    "import cv2\n",
    "import matplotlib.pyplot as plt\n",
    "%matplotlib inline"
   ]
  },
  {
   "cell_type": "code",
   "execution_count": 2,
   "metadata": {
    "ExecuteTime": {
     "end_time": "2017-03-08T02:46:03.734921",
     "start_time": "2017-03-08T02:45:56.638957"
    },
    "collapsed": false
   },
   "outputs": [
    {
     "name": "stdout",
     "output_type": "stream",
     "text": [
      "Extracting MNIST_data\\train-images-idx3-ubyte.gz\n",
      "Extracting MNIST_data\\train-labels-idx1-ubyte.gz\n",
      "Extracting MNIST_data\\t10k-images-idx3-ubyte.gz\n",
      "Extracting MNIST_data\\t10k-labels-idx1-ubyte.gz\n"
     ]
    }
   ],
   "source": [
    "# データ読み込み\n",
    "from tensorflow.examples.tutorials.mnist import input_data\n",
    "mnist = input_data.read_data_sets('MNIST_data', one_hot=True)"
   ]
  },
  {
   "cell_type": "code",
   "execution_count": 3,
   "metadata": {
    "ExecuteTime": {
     "end_time": "2017-03-08T02:46:03.742928",
     "start_time": "2017-03-08T02:46:03.735922"
    },
    "collapsed": true
   },
   "outputs": [],
   "source": [
    "CHAN = 1\n",
    "PIX = 28\n",
    "IMAGE_PIXELS = PIX ** 2\n",
    "NUM_CLASSES = 10\n",
    "FILT = Series({'N':3,'num1':32,'num2':64,'num3':1024})\n",
    "FLAG = Series({'max_steps':15000,'learning_rate':1e-4,'train_dir':'data','batch_size':100,'test_size':1000})\n",
    "\n",
    "#10000枚の画像を投げるとキャパオーバーしてしまう\n",
    "imgtest = mnist.test.images.shape"
   ]
  },
  {
   "cell_type": "code",
   "execution_count": 11,
   "metadata": {
    "ExecuteTime": {
     "end_time": "2017-03-08T02:47:00.302546",
     "start_time": "2017-03-08T02:47:00.296541"
    },
    "collapsed": false
   },
   "outputs": [
    {
     "data": {
      "text/plain": [
       "(10000, 784)"
      ]
     },
     "execution_count": 11,
     "metadata": {},
     "output_type": "execute_result"
    }
   ],
   "source": [
    "mnist.test.images.shape"
   ]
  },
  {
   "cell_type": "code",
   "execution_count": 4,
   "metadata": {
    "ExecuteTime": {
     "end_time": "2017-03-08T02:46:03.759939",
     "start_time": "2017-03-08T02:46:03.745930"
    },
    "collapsed": true
   },
   "outputs": [],
   "source": [
    "# 重みを標準偏差0.1の正規分布で初期化\n",
    "def weight_variable(shape):\n",
    "    initial = tf.truncated_normal(shape, stddev=0.1)\n",
    "    return tf.Variable(initial)\n",
    "\n",
    "# バイアスを標準偏差0.1の正規分布で初期化\n",
    "def bias_variable(shape):\n",
    "    initial = tf.constant(0.1, shape=shape)\n",
    "    return tf.Variable(initial)\n",
    "\n",
    "# 畳み込み層の作成\n",
    "def conv2d(x, W):\n",
    "    return tf.nn.conv2d(x, W, strides=[1, 1, 1, 1], padding='SAME')\n",
    "\n",
    "# プーリング層の作成\n",
    "def max_pool_2x2(x):\n",
    "    return tf.nn.max_pool(x, ksize=[1, 2, 2, 1],strides=[1, 2, 2, 1], padding='SAME')"
   ]
  },
  {
   "cell_type": "code",
   "execution_count": 5,
   "metadata": {
    "ExecuteTime": {
     "end_time": "2017-03-08T02:46:03.838022",
     "start_time": "2017-03-08T02:46:03.764946"
    },
    "collapsed": true
   },
   "outputs": [],
   "source": [
    "def inference(images_placeholder, keep_prob):\n",
    "    \"\"\" 予測モデルを作成する関数\n",
    "\n",
    "    引数: \n",
    "      images_placeholder: 画像のplaceholder\n",
    "      keep_prob: dropout率のplaceholder\n",
    "\n",
    "    返り値:\n",
    "      y_conv: 各クラスの確率(のようなもの)\n",
    "    \"\"\"\n",
    "\n",
    "    # 入力を変形\n",
    "    x_image = tf.reshape(images_placeholder, [-1, PIX, PIX, CHAN])\n",
    "\n",
    "    # 畳み込み層1の作成\n",
    "    with tf.name_scope('conv1') as scope:\n",
    "        W_conv1 = weight_variable([FILT.N, FILT.N, CHAN, FILT.num1])\n",
    "        b_conv1 = bias_variable([FILT.num1])\n",
    "        h_conv1 = tf.nn.relu(conv2d(x_image, W_conv1) + b_conv1)\n",
    "        \n",
    "    # 畳み込み層1aの作成\n",
    "    with tf.name_scope('conv1a') as scope:\n",
    "        W_conv1a = weight_variable([FILT.N, FILT.N, FILT.num1, FILT.num1])\n",
    "        b_conv1a = bias_variable([FILT.num1])\n",
    "        h_conv1a = tf.nn.relu(conv2d(h_conv1, W_conv1a) + b_conv1a)\n",
    "\n",
    "    # プーリング層1の作成\n",
    "    with tf.name_scope('pool1') as scope:\n",
    "        h_pool1 = max_pool_2x2(h_conv1a)\n",
    "    \n",
    "    # 畳み込み層2の作成\n",
    "    with tf.name_scope('conv2') as scope:\n",
    "        W_conv2 = weight_variable([FILT.N, FILT.N, FILT.num1, FILT.num2])\n",
    "        b_conv2 = bias_variable([FILT.num2])\n",
    "        h_conv2 = tf.nn.relu(conv2d(h_pool1, W_conv2) + b_conv2)\n",
    "\n",
    "    # 畳み込み層2aの作成\n",
    "    with tf.name_scope('conv2a') as scope:\n",
    "        W_conv2a = weight_variable([FILT.N, FILT.N, FILT.num2, FILT.num2])\n",
    "        b_conv2a = bias_variable([FILT.num2])\n",
    "        h_conv2a = tf.nn.relu(conv2d(h_conv2, W_conv2a) + b_conv2a)\n",
    "        \n",
    "    # プーリング層2の作成\n",
    "    with tf.name_scope('pool2') as scope:\n",
    "        h_pool2 = max_pool_2x2(h_conv2a)\n",
    "\n",
    "    # 全結合層1の作成\n",
    "    with tf.name_scope('fc1') as scope:\n",
    "        num4 = int((PIX/4)*(PIX/4)*FILT.num2)\n",
    "        W_fc1 = weight_variable([num4, FILT.num3])\n",
    "        b_fc1 = bias_variable([FILT.num3])\n",
    "        h_pool2_flat = tf.reshape(h_pool2, [-1, num4])\n",
    "        h_fc1 = tf.nn.relu(tf.matmul(h_pool2_flat, W_fc1) + b_fc1)\n",
    "        # dropoutの設定\n",
    "        h_fc1_drop = tf.nn.dropout(h_fc1, keep_prob)\n",
    "\n",
    "    # 全結合層2の作成\n",
    "    with tf.name_scope('fc2') as scope:\n",
    "        W_fc2 = weight_variable([FILT.num3, NUM_CLASSES])\n",
    "        b_fc2 = bias_variable([NUM_CLASSES])\n",
    "\n",
    "    # ソフトマックス関数による正規化\n",
    "    with tf.name_scope('softmax') as scope:\n",
    "        y_conv=tf.nn.softmax(tf.matmul(h_fc1_drop, W_fc2) + b_fc2)\n",
    "\n",
    "    # 各ラベルの確率のようなものを返す\n",
    "    return y_conv"
   ]
  },
  {
   "cell_type": "code",
   "execution_count": 6,
   "metadata": {
    "ExecuteTime": {
     "end_time": "2017-03-08T02:46:03.854032",
     "start_time": "2017-03-08T02:46:03.840045"
    },
    "collapsed": true
   },
   "outputs": [],
   "source": [
    "def loss(logits, labels):\n",
    "    \"\"\" lossを計算する関数\n",
    "\n",
    "    引数:\n",
    "      logits: ロジットのtensor, float - [batch_size, NUM_CLASSES]\n",
    "      labels: ラベルのtensor, int32 - [batch_size, NUM_CLASSES]\n",
    "\n",
    "    返り値:\n",
    "      cross_entropy: 交差エントロピーのtensor, float\n",
    "\n",
    "    \"\"\"\n",
    "\n",
    "    # 交差エントロピーの計算\n",
    "    cross_entropy = -tf.reduce_sum(labels*tf.log(logits))\n",
    "    return cross_entropy"
   ]
  },
  {
   "cell_type": "code",
   "execution_count": 7,
   "metadata": {
    "ExecuteTime": {
     "end_time": "2017-03-08T02:46:03.870554",
     "start_time": "2017-03-08T02:46:03.857048"
    },
    "collapsed": true
   },
   "outputs": [],
   "source": [
    "def training(loss, learning_rate):\n",
    "    \"\"\" 訓練のopを定義する関数\n",
    "\n",
    "    引数:\n",
    "      loss: 損失のtensor, loss()の結果\n",
    "      learning_rate: 学習係数\n",
    "\n",
    "    返り値:\n",
    "      train_step: 訓練のop\n",
    "\n",
    "    \"\"\"\n",
    "\n",
    "    train_step = tf.train.AdamOptimizer(learning_rate).minimize(loss)\n",
    "    return train_step"
   ]
  },
  {
   "cell_type": "code",
   "execution_count": 8,
   "metadata": {
    "ExecuteTime": {
     "end_time": "2017-03-08T02:46:03.886149",
     "start_time": "2017-03-08T02:46:03.873050"
    },
    "collapsed": true
   },
   "outputs": [],
   "source": [
    "def accuracy_model(logits, labels):\n",
    "    \"\"\" 正解率(accuracy)を計算する関数\n",
    "\n",
    "    引数: \n",
    "      logits: inference()の結果\n",
    "      labels: ラベルのtensor, int32 - [batch_size, NUM_CLASSES]\n",
    "\n",
    "    返り値:\n",
    "      accuracy: 正解率(float)\n",
    "\n",
    "    \"\"\"\n",
    "    correct_prediction = tf.equal(tf.argmax(logits, 1), tf.argmax(labels, 1))\n",
    "    accuracy = tf.reduce_mean(tf.cast(correct_prediction, \"float\"))\n",
    "    return accuracy"
   ]
  },
  {
   "cell_type": "code",
   "execution_count": 11,
   "metadata": {
    "ExecuteTime": {
     "end_time": "2017-02-26T01:14:17.551373",
     "start_time": "2017-02-26T01:14:17.509709"
    },
    "collapsed": true
   },
   "outputs": [],
   "source": [
    "# placeholder\n",
    "x = tf.placeholder(tf.float32, shape=[None, IMAGE_PIXELS])\n",
    "y_ = tf.placeholder(tf.float32, shape=[None, NUM_CLASSES])\n",
    "\n",
    "# dropout率を入れる仮のTensor\n",
    "keep_prob = tf.placeholder(tf.float32)"
   ]
  },
  {
   "cell_type": "code",
   "execution_count": 12,
   "metadata": {
    "ExecuteTime": {
     "end_time": "2017-02-26T01:14:18.959287",
     "start_time": "2017-02-26T01:14:18.532889"
    },
    "collapsed": false
   },
   "outputs": [],
   "source": [
    "logits = inference(x, keep_prob)\n",
    "\n",
    "loss_value = loss(logits, y_)\n",
    "train_op = training(loss_value, FLAG.learning_rate)\n",
    "accuracy = accuracy_model(logits, y_)"
   ]
  },
  {
   "cell_type": "code",
   "execution_count": 13,
   "metadata": {
    "ExecuteTime": {
     "end_time": "2017-02-26T01:14:20.779982",
     "start_time": "2017-02-26T01:14:20.645239"
    },
    "collapsed": true
   },
   "outputs": [],
   "source": [
    "# 保存の準備\n",
    "saver = tf.train.Saver()"
   ]
  },
  {
   "cell_type": "code",
   "execution_count": 14,
   "metadata": {
    "ExecuteTime": {
     "end_time": "2017-02-26T01:14:22.466750",
     "start_time": "2017-02-26T01:14:21.149922"
    },
    "collapsed": true
   },
   "outputs": [],
   "source": [
    "# Session確立\n",
    "sess = tf.InteractiveSession()\n",
    "# variable初期化\n",
    "sess.run(tf.global_variables_initializer())"
   ]
  },
  {
   "cell_type": "code",
   "execution_count": 15,
   "metadata": {
    "ExecuteTime": {
     "end_time": "2017-02-26T01:14:23.168659",
     "start_time": "2017-02-26T01:14:22.466750"
    },
    "collapsed": true
   },
   "outputs": [],
   "source": [
    "# summaryの設定\n",
    "cost_summary_op_train = tf.summary.scalar(\"Cross_Entropy_on_Train\", loss_value)\n",
    "cost_summary_op_test = tf.summary.scalar(\"Cross_Entropy_on_Test\", loss_value)\n",
    "accuracy_op_train = tf.summary.scalar(\"Accuracy_on_Train\", accuracy)\n",
    "accuracy_op_test = tf.summary.scalar(\"Accuracy_on_Test\", accuracy)\n",
    "\n",
    "# summary_op = tf.merge_all_summaries() の代わりに、訓練データとテストデータ用のサマリーを別々にマージする\n",
    "summary_op_train = tf.summary.merge([cost_summary_op_train, accuracy_op_train])\n",
    "summary_op_test = tf.summary.merge([cost_summary_op_test, accuracy_op_test])\n",
    "\n",
    "summary_writer = tf.summary.FileWriter('data', graph=sess.graph)"
   ]
  },
  {
   "cell_type": "code",
   "execution_count": 16,
   "metadata": {
    "ExecuteTime": {
     "end_time": "2017-02-26T01:22:59.896268",
     "start_time": "2017-02-26T01:14:25.309744"
    },
    "collapsed": false,
    "scrolled": true
   },
   "outputs": [
    {
     "name": "stdout",
     "output_type": "stream",
     "text": [
      "step 0, training accuracy 0.14\n",
      "step 100, training accuracy 0.91\n",
      "step 200, training accuracy 0.96\n",
      "step 300, training accuracy 0.99\n",
      "step 400, training accuracy 0.93\n",
      "step 500, training accuracy 0.98\n",
      "step 600, training accuracy 0.98\n",
      "step 700, training accuracy 0.96\n",
      "step 800, training accuracy 0.98\n",
      "step 900, training accuracy 0.98\n",
      "step 1000, training accuracy 0.97\n",
      "step 1100, training accuracy 0.98\n",
      "step 1200, training accuracy 0.95\n",
      "step 1300, training accuracy 0.99\n",
      "step 1400, training accuracy 1\n",
      "step 1500, training accuracy 0.98\n",
      "step 1600, training accuracy 0.98\n",
      "step 1700, training accuracy 1\n",
      "step 1800, training accuracy 0.99\n",
      "step 1900, training accuracy 0.99\n",
      "step 2000, training accuracy 0.99\n",
      "step 2100, training accuracy 0.96\n",
      "step 2200, training accuracy 0.97\n",
      "step 2300, training accuracy 0.98\n",
      "step 2400, training accuracy 0.99\n",
      "step 2500, training accuracy 1\n",
      "step 2600, training accuracy 0.99\n",
      "step 2700, training accuracy 0.98\n",
      "step 2800, training accuracy 0.96\n",
      "step 2900, training accuracy 0.98\n",
      "step 3000, training accuracy 0.99\n",
      "step 3100, training accuracy 0.98\n",
      "step 3200, training accuracy 0.97\n",
      "step 3300, training accuracy 1\n",
      "step 3400, training accuracy 1\n",
      "step 3500, training accuracy 0.99\n",
      "step 3600, training accuracy 0.98\n",
      "step 3700, training accuracy 1\n",
      "step 3800, training accuracy 0.97\n",
      "step 3900, training accuracy 1\n",
      "step 4000, training accuracy 0.99\n",
      "step 4100, training accuracy 0.98\n",
      "step 4200, training accuracy 0.99\n",
      "step 4300, training accuracy 1\n",
      "step 4400, training accuracy 0.98\n",
      "step 4500, training accuracy 0.99\n",
      "step 4600, training accuracy 1\n",
      "step 4700, training accuracy 0.97\n",
      "step 4800, training accuracy 1\n",
      "step 4900, training accuracy 0.99\n",
      "step 5000, training accuracy 0.99\n",
      "step 5100, training accuracy 1\n",
      "step 5200, training accuracy 1\n",
      "step 5300, training accuracy 1\n",
      "step 5400, training accuracy 1\n",
      "step 5500, training accuracy 0.98\n",
      "step 5600, training accuracy 1\n",
      "step 5700, training accuracy 1\n",
      "step 5800, training accuracy 0.99\n",
      "step 5900, training accuracy 1\n",
      "step 6000, training accuracy 1\n",
      "step 6100, training accuracy 1\n",
      "step 6200, training accuracy 1\n",
      "step 6300, training accuracy 1\n",
      "step 6400, training accuracy 1\n",
      "step 6500, training accuracy 1\n",
      "step 6600, training accuracy 1\n",
      "step 6700, training accuracy 1\n",
      "step 6800, training accuracy 1\n",
      "step 6900, training accuracy 1\n",
      "step 7000, training accuracy 1\n",
      "step 7100, training accuracy 1\n",
      "step 7200, training accuracy 1\n",
      "step 7300, training accuracy 0.99\n",
      "step 7400, training accuracy 1\n",
      "step 7500, training accuracy 0.99\n",
      "step 7600, training accuracy 1\n",
      "step 7700, training accuracy 1\n",
      "step 7800, training accuracy 1\n",
      "step 7900, training accuracy 0.99\n",
      "step 8000, training accuracy 1\n",
      "step 8100, training accuracy 1\n",
      "step 8200, training accuracy 1\n",
      "step 8300, training accuracy 1\n",
      "step 8400, training accuracy 1\n",
      "step 8500, training accuracy 1\n",
      "step 8600, training accuracy 0.99\n",
      "step 8700, training accuracy 1\n",
      "step 8800, training accuracy 0.99\n",
      "step 8900, training accuracy 1\n",
      "step 9000, training accuracy 1\n",
      "step 9100, training accuracy 1\n",
      "step 9200, training accuracy 0.99\n",
      "step 9300, training accuracy 1\n",
      "step 9400, training accuracy 0.99\n",
      "step 9500, training accuracy 1\n",
      "step 9600, training accuracy 1\n",
      "step 9700, training accuracy 1\n",
      "step 9800, training accuracy 1\n",
      "step 9900, training accuracy 0.99\n",
      "step 10000, training accuracy 1\n",
      "step 10100, training accuracy 1\n",
      "step 10200, training accuracy 1\n",
      "step 10300, training accuracy 1\n",
      "step 10400, training accuracy 1\n",
      "step 10500, training accuracy 1\n",
      "step 10600, training accuracy 1\n",
      "step 10700, training accuracy 0.99\n",
      "step 10800, training accuracy 0.99\n",
      "step 10900, training accuracy 1\n",
      "step 11000, training accuracy 1\n",
      "step 11100, training accuracy 1\n",
      "step 11200, training accuracy 1\n",
      "step 11300, training accuracy 1\n",
      "step 11400, training accuracy 1\n",
      "step 11500, training accuracy 1\n",
      "step 11600, training accuracy 1\n",
      "step 11700, training accuracy 0.99\n",
      "step 11800, training accuracy 1\n",
      "step 11900, training accuracy 1\n",
      "step 12000, training accuracy 1\n",
      "step 12100, training accuracy 1\n",
      "step 12200, training accuracy 1\n",
      "step 12300, training accuracy 1\n",
      "step 12400, training accuracy 1\n",
      "step 12500, training accuracy 1\n",
      "step 12600, training accuracy 1\n",
      "step 12700, training accuracy 1\n",
      "step 12800, training accuracy 1\n",
      "step 12900, training accuracy 0.99\n",
      "step 13000, training accuracy 1\n",
      "step 13100, training accuracy 1\n",
      "step 13200, training accuracy 1\n",
      "step 13300, training accuracy 1\n",
      "step 13400, training accuracy 1\n",
      "step 13500, training accuracy 1\n",
      "step 13600, training accuracy 1\n",
      "step 13700, training accuracy 1\n",
      "step 13800, training accuracy 1\n",
      "step 13900, training accuracy 1\n",
      "step 14000, training accuracy 1\n",
      "step 14100, training accuracy 1\n",
      "step 14200, training accuracy 1\n",
      "step 14300, training accuracy 1\n",
      "step 14400, training accuracy 1\n",
      "step 14500, training accuracy 1\n",
      "step 14600, training accuracy 1\n",
      "step 14700, training accuracy 1\n",
      "step 14800, training accuracy 1\n",
      "step 14900, training accuracy 1\n"
     ]
    }
   ],
   "source": [
    "# accuracyを確認しつつtrain\n",
    "accracies = []\n",
    "\n",
    "#実行速度計測\n",
    "import time\n",
    "start = time.time()\n",
    "\n",
    "for i in range(FLAG.max_steps):\n",
    "    batch_x, batch_y = mnist.train.next_batch(FLAG.batch_size)\n",
    "    \n",
    "    if i%100 == 0:\n",
    "        train_dict = {x:batch_x, y_: batch_y, keep_prob: 1.0}\n",
    "        train_accuracy = accuracy.eval(feed_dict= train_dict)\n",
    "        accracies.append(train_accuracy)\n",
    "        print(\"step %d, training accuracy %g\"%(i, train_accuracy))\n",
    "        \n",
    "        #test data をランダムに5000枚選択\n",
    "        sed = np.random.permutation(imgtest[0])\n",
    "        sed = sed[:FLAG.test_size]\n",
    "        test_image = mnist.test.images[sed, :]\n",
    "        test_label = mnist.test.labels[sed, :]\n",
    "        test_dict = {x:test_image, y_: test_label, keep_prob: 1.0}\n",
    "        \n",
    "        #sum\n",
    "        summary_str = sess.run(summary_op_train, feed_dict=train_dict)\n",
    "        summary_writer.add_summary(summary_str, i)\n",
    "        summary_str = sess.run(summary_op_test, feed_dict=test_dict)\n",
    "        summary_writer.add_summary(summary_str, i)\n",
    "        summary_writer.flush()\n",
    "        \n",
    "    train_op.run(feed_dict={x: batch_x, y_: batch_y, keep_prob: 0.5})\n",
    "\n",
    "elapsed_time = time.time() - start"
   ]
  },
  {
   "cell_type": "code",
   "execution_count": 17,
   "metadata": {
    "ExecuteTime": {
     "end_time": "2017-02-26T01:22:59.903378",
     "start_time": "2017-02-26T01:22:59.896268"
    },
    "collapsed": false
   },
   "outputs": [
    {
     "name": "stdout",
     "output_type": "stream",
     "text": [
      "finish_time: 514 [sec]\n"
     ]
    }
   ],
   "source": [
    "#実行速度 about 8min\n",
    "print((\"finish_time: {0}\".format(int(elapsed_time))) + \" [sec]\")"
   ]
  },
  {
   "cell_type": "code",
   "execution_count": 18,
   "metadata": {
    "ExecuteTime": {
     "end_time": "2017-02-26T01:23:00.007944",
     "start_time": "2017-02-26T01:22:59.906364"
    },
    "collapsed": false
   },
   "outputs": [
    {
     "name": "stdout",
     "output_type": "stream",
     "text": [
      "test accuracy 0.988\n"
     ]
    }
   ],
   "source": [
    "#test data をランダムに選択\n",
    "sed = np.random.permutation(imgtest[0])\n",
    "sed = sed[:FLAG.test_size]\n",
    "test_image = mnist.test.images[sed, :]\n",
    "test_label = mnist.test.labels[sed, :]\n",
    "test_dict = {x:test_image, y_: test_label, keep_prob: 1.0}\n",
    "\n",
    "# test_accuracyを表示1　バッチ処理で制御\n",
    "print(\"test accuracy %g\"%accuracy.eval(feed_dict= test_dict))"
   ]
  },
  {
   "cell_type": "code",
   "execution_count": 19,
   "metadata": {
    "ExecuteTime": {
     "end_time": "2017-02-26T01:23:00.697456",
     "start_time": "2017-02-26T01:23:00.009945"
    },
    "collapsed": false
   },
   "outputs": [],
   "source": [
    "# 最終的なモデルを保存\n",
    "save_path = saver.save(sess, \"kept\\model.ckpt\")"
   ]
  },
  {
   "cell_type": "code",
   "execution_count": 22,
   "metadata": {
    "ExecuteTime": {
     "end_time": "2017-02-26T01:23:32.083828",
     "start_time": "2017-02-26T01:23:32.069321"
    },
    "collapsed": false
   },
   "outputs": [],
   "source": [
    "impath = \"png/04.png\"\n",
    "impath2 = \"png/02.png\"\n",
    "\n",
    "img = cv2.imread(impath)\n",
    "img = cv2.resize(img, (PIX, PIX))\n",
    "img = cv2.cvtColor(img, cv2.COLOR_RGB2GRAY)\n",
    "\n",
    "img2 = cv2.imread(impath2)\n",
    "img2 = cv2.resize(img2, (PIX, PIX))\n",
    "img2 = cv2.cvtColor(img2, cv2.COLOR_RGB2GRAY)\n",
    "\n",
    "test_image = []\n",
    "test_image.append(img.flatten().astype(np.float32)/255.0)\n",
    "test_image.append(img2.flatten().astype(np.float32)/255.0)\n",
    "\n",
    "test_image = 1 - np.asarray(test_image)"
   ]
  },
  {
   "cell_type": "code",
   "execution_count": 23,
   "metadata": {
    "ExecuteTime": {
     "end_time": "2017-02-26T01:23:33.270654",
     "start_time": "2017-02-26T01:23:33.260646"
    },
    "collapsed": false
   },
   "outputs": [
    {
     "name": "stdout",
     "output_type": "stream",
     "text": [
      "Answer:  3\n",
      "Answer:  8\n"
     ]
    }
   ],
   "source": [
    "for i in range(len(test_image)):\n",
    "    pred = np.argmax(logits.eval(feed_dict={ x: [test_image[i]],keep_prob: 1.0 }))\n",
    "    #pred = logits.eval(feed_dict={ x: [test_image[i]],keep_prob: 1.0 })\n",
    "    print('Answer: ',pred)"
   ]
  },
  {
   "cell_type": "code",
   "execution_count": null,
   "metadata": {
    "collapsed": true
   },
   "outputs": [],
   "source": []
  }
 ],
 "metadata": {
  "kernelspec": {
   "display_name": "Python [conda root]",
   "language": "python",
   "name": "conda-root-py"
  },
  "language_info": {
   "codemirror_mode": {
    "name": "ipython",
    "version": 3
   },
   "file_extension": ".py",
   "mimetype": "text/x-python",
   "name": "python",
   "nbconvert_exporter": "python",
   "pygments_lexer": "ipython3",
   "version": "3.5.2"
  },
  "latex_envs": {
   "LaTeX_envs_menu_present": true,
   "bibliofile": "biblio.bib",
   "cite_by": "apalike",
   "current_citInitial": 1,
   "eqLabelWithNumbers": true,
   "eqNumInitial": 0,
   "labels_anchors": false,
   "latex_user_defs": false,
   "report_style_numbering": false,
   "user_envs_cfg": false
  }
 },
 "nbformat": 4,
 "nbformat_minor": 2
}
