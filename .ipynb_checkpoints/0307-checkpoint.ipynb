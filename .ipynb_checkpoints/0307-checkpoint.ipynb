{
 "cells": [
  {
   "cell_type": "code",
   "execution_count": 2,
   "metadata": {
    "ExecuteTime": {
     "end_time": "2017-03-07T01:42:46.157469",
     "start_time": "2017-03-07T01:42:44.024218"
    },
    "collapsed": false
   },
   "outputs": [
    {
     "name": "stderr",
     "output_type": "stream",
     "text": [
      "Using TensorFlow backend.\n"
     ]
    }
   ],
   "source": [
    "from keras.models import load_model\n",
    "import numpy as np\n",
    "import cv2"
   ]
  },
  {
   "cell_type": "code",
   "execution_count": 3,
   "metadata": {
    "ExecuteTime": {
     "end_time": "2017-03-07T01:42:48.715543",
     "start_time": "2017-03-07T01:42:46.158484"
    },
    "collapsed": false
   },
   "outputs": [],
   "source": [
    "img_rows, img_cols = 28, 28\n",
    "model = load_model('my_model1.h5')"
   ]
  },
  {
   "cell_type": "code",
   "execution_count": 4,
   "metadata": {
    "ExecuteTime": {
     "end_time": "2017-03-07T01:42:48.733556",
     "start_time": "2017-03-07T01:42:48.717545"
    },
    "collapsed": true
   },
   "outputs": [],
   "source": [
    "impath = '02.png'\n",
    "impath2 = '03.png'\n",
    "\n",
    "img = cv2.imread(impath)\n",
    "img = cv2.resize(img, (img_rows, img_cols))\n",
    "img = cv2.cvtColor(img, cv2.COLOR_RGB2GRAY)\n",
    "\n",
    "img2 = cv2.imread(impath2)\n",
    "img2 = cv2.resize(img2, (img_rows, img_cols))\n",
    "img2 = cv2.cvtColor(img2, cv2.COLOR_RGB2GRAY)\n",
    "\n",
    "test_image = []\n",
    "test_image.append(img.flatten().astype(np.float32)/255.0)\n",
    "test_image.append(img2.flatten().astype(np.float32)/255.0)\n",
    "\n",
    "test_image = 1 - np.asarray(test_image)\n",
    "\n",
    "test_image = test_image.reshape(test_image.shape[0], img_rows, img_cols, 1)"
   ]
  },
  {
   "cell_type": "code",
   "execution_count": 6,
   "metadata": {
    "ExecuteTime": {
     "end_time": "2017-03-07T01:43:02.744796",
     "start_time": "2017-03-07T01:43:02.738791"
    },
    "collapsed": false
   },
   "outputs": [
    {
     "data": {
      "text/plain": [
       "(28, 28, 1)"
      ]
     },
     "execution_count": 6,
     "metadata": {},
     "output_type": "execute_result"
    }
   ],
   "source": [
    "test_image[1].shape"
   ]
  },
  {
   "cell_type": "code",
   "execution_count": null,
   "metadata": {
    "ExecuteTime": {
     "start_time": "2017-03-06T16:42:14.975Z"
    },
    "collapsed": true
   },
   "outputs": [],
   "source": [
    "pre = model.predict_classes(test_image, verbose=1)\n",
    "print(pre)"
   ]
  },
  {
   "cell_type": "code",
   "execution_count": null,
   "metadata": {
    "collapsed": true
   },
   "outputs": [],
   "source": []
  }
 ],
 "metadata": {
  "kernelspec": {
   "display_name": "Python [conda root]",
   "language": "python",
   "name": "conda-root-py"
  },
  "language_info": {
   "codemirror_mode": {
    "name": "ipython",
    "version": 3
   },
   "file_extension": ".py",
   "mimetype": "text/x-python",
   "name": "python",
   "nbconvert_exporter": "python",
   "pygments_lexer": "ipython3",
   "version": "3.5.2"
  },
  "latex_envs": {
   "LaTeX_envs_menu_present": true,
   "bibliofile": "biblio.bib",
   "cite_by": "apalike",
   "current_citInitial": 1,
   "eqLabelWithNumbers": true,
   "eqNumInitial": 1,
   "labels_anchors": false,
   "latex_user_defs": false,
   "report_style_numbering": false,
   "user_envs_cfg": false
  }
 },
 "nbformat": 4,
 "nbformat_minor": 2
}
