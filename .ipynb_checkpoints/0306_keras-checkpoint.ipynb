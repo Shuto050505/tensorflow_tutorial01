{
 "cells": [
  {
   "cell_type": "code",
   "execution_count": 1,
   "metadata": {
    "ExecuteTime": {
     "end_time": "2017-03-07T01:30:43.786798",
     "start_time": "2017-03-07T01:30:41.231350"
    },
    "collapsed": false
   },
   "outputs": [
    {
     "name": "stderr",
     "output_type": "stream",
     "text": [
      "Using TensorFlow backend.\n"
     ]
    }
   ],
   "source": [
    "from __future__ import print_function\n",
    "import numpy as np\n",
    "np.random.seed(1337)  # for reproducibility\n",
    "\n",
    "from keras.datasets import mnist\n",
    "from keras.models import Sequential\n",
    "from keras.layers import Dense, Dropout, Activation, Flatten\n",
    "from keras.layers import Convolution2D, MaxPooling2D\n",
    "from keras.utils import np_utils\n",
    "from keras.optimizers import Adam"
   ]
  },
  {
   "cell_type": "code",
   "execution_count": 2,
   "metadata": {
    "ExecuteTime": {
     "end_time": "2017-03-07T01:30:55.107111",
     "start_time": "2017-03-07T01:30:53.471084"
    },
    "collapsed": false
   },
   "outputs": [
    {
     "name": "stdout",
     "output_type": "stream",
     "text": [
      "X_train shape: (60000, 28, 28, 1)\n",
      "60000 train samples\n",
      "10000 test samples\n"
     ]
    }
   ],
   "source": [
    "#\n",
    "batch_size = 100\n",
    "nb_classes = 10\n",
    "nb_epoch = 10\n",
    "# input image dimensions\n",
    "img_rows, img_cols = 28, 28\n",
    "# number of convolutional filters to use\n",
    "nb_filters = (32, 64, 1024)\n",
    "# size of pooling area for max pooling\n",
    "pool_size = (2, 2)\n",
    "# convolution kernel size\n",
    "kernel_size = (3, 3)\n",
    "\n",
    "# the data, shuffled and split between train and test sets\n",
    "(X_train, y_train), (X_test, y_test) = mnist.load_data()\n",
    "\n",
    "X_train = X_train.reshape(X_train.shape[0], img_rows, img_cols, 1)\n",
    "X_test = X_test.reshape(X_test.shape[0], img_rows, img_cols, 1)\n",
    "input_shape = (img_rows, img_cols, 1)\n",
    "\n",
    "X_train = X_train.astype('float32')\n",
    "X_test = X_test.astype('float32')\n",
    "X_train /= 255\n",
    "X_test /= 255\n",
    "print('X_train shape:', X_train.shape)\n",
    "print(X_train.shape[0], 'train samples')\n",
    "print(X_test.shape[0], 'test samples')\n",
    "\n",
    "# convert class vectors to binary class matrices\n",
    "Y_train = np_utils.to_categorical(y_train, nb_classes)\n",
    "Y_test = np_utils.to_categorical(y_test, nb_classes)"
   ]
  },
  {
   "cell_type": "code",
   "execution_count": 3,
   "metadata": {
    "ExecuteTime": {
     "end_time": "2017-03-07T01:31:01.555937",
     "start_time": "2017-03-07T01:31:01.287101"
    },
    "collapsed": true
   },
   "outputs": [],
   "source": [
    "################## Model ###########################\n",
    "model = Sequential()\n",
    "\n",
    "#Layer 1\n",
    "model.add(Convolution2D(nb_filters[0], kernel_size[0], kernel_size[1],\n",
    "                        border_mode='valid', input_shape=input_shape))\n",
    "model.add(Activation('relu'))\n",
    "model.add(Convolution2D(nb_filters[0], kernel_size[0], kernel_size[1]))\n",
    "model.add(Activation('relu'))\n",
    "model.add(MaxPooling2D(pool_size=pool_size))\n",
    "model.add(Dropout(0.25))\n",
    "#Layer 2\n",
    "model.add(Convolution2D(nb_filters[1], kernel_size[0], kernel_size[1]))\n",
    "model.add(Activation('relu'))\n",
    "model.add(Convolution2D(nb_filters[1], kernel_size[0], kernel_size[1]))\n",
    "model.add(Activation('relu'))\n",
    "model.add(MaxPooling2D(pool_size=pool_size))\n",
    "model.add(Dropout(0.25))\n",
    "#Layer 3\n",
    "model.add(Flatten())\n",
    "model.add(Dense(nb_filters[2]))\n",
    "model.add(Activation('relu'))\n",
    "model.add(Dropout(0.5))\n",
    "#Layer 4\n",
    "model.add(Dense(nb_classes))\n",
    "model.add(Activation('softmax'))\n",
    "####################################################\n",
    "\n",
    "#Optimizer\n",
    "adam = Adam(lr=1e-4)\n",
    "model.compile(loss='categorical_crossentropy',\n",
    "              optimizer=adam,\n",
    "              metrics=['accuracy'])"
   ]
  },
  {
   "cell_type": "code",
   "execution_count": 4,
   "metadata": {
    "ExecuteTime": {
     "end_time": "2017-03-07T01:34:06.711582",
     "start_time": "2017-03-07T01:31:17.175326"
    },
    "collapsed": false
   },
   "outputs": [
    {
     "name": "stdout",
     "output_type": "stream",
     "text": [
      "Train on 60000 samples, validate on 10000 samples\n",
      "Epoch 1/10\n",
      "19s - loss: 0.5341 - acc: 0.8292 - val_loss: 0.1017 - val_acc: 0.9692\n",
      "Epoch 2/10\n",
      "16s - loss: 0.1368 - acc: 0.9585 - val_loss: 0.0593 - val_acc: 0.9801\n",
      "Epoch 3/10\n",
      "16s - loss: 0.0960 - acc: 0.9696 - val_loss: 0.0452 - val_acc: 0.9851\n",
      "Epoch 4/10\n",
      "16s - loss: 0.0773 - acc: 0.9760 - val_loss: 0.0379 - val_acc: 0.9882\n",
      "Epoch 5/10\n",
      "16s - loss: 0.0644 - acc: 0.9794 - val_loss: 0.0312 - val_acc: 0.9894\n",
      "Epoch 6/10\n",
      "16s - loss: 0.0557 - acc: 0.9827 - val_loss: 0.0292 - val_acc: 0.9904\n",
      "Epoch 7/10\n",
      "16s - loss: 0.0500 - acc: 0.9843 - val_loss: 0.0257 - val_acc: 0.9913\n",
      "Epoch 8/10\n",
      "16s - loss: 0.0453 - acc: 0.9856 - val_loss: 0.0251 - val_acc: 0.9911\n",
      "Epoch 9/10\n",
      "16s - loss: 0.0438 - acc: 0.9863 - val_loss: 0.0235 - val_acc: 0.9926\n",
      "Epoch 10/10\n",
      "16s - loss: 0.0377 - acc: 0.9884 - val_loss: 0.0217 - val_acc: 0.9925\n",
      "finish_time: 169 [sec]\n"
     ]
    }
   ],
   "source": [
    "#実行速度計測\n",
    "import time\n",
    "start = time.time()\n",
    "\n",
    "#Fit\n",
    "model.fit(X_train, Y_train, batch_size=batch_size, nb_epoch=nb_epoch,\n",
    "          verbose=2, validation_data=(X_test, Y_test), shuffle=True)\n",
    "\n",
    "elapsed_time = time.time() - start\n",
    "#実行速度\n",
    "print((\"finish_time: {0}\".format(int(elapsed_time))) + \" [sec]\")"
   ]
  },
  {
   "cell_type": "code",
   "execution_count": 5,
   "metadata": {
    "ExecuteTime": {
     "end_time": "2017-03-07T01:34:33.570899",
     "start_time": "2017-03-07T01:34:31.967410"
    },
    "collapsed": false
   },
   "outputs": [
    {
     "name": "stdout",
     "output_type": "stream",
     "text": [
      "Test score: 0.0217487819637\n",
      "Test accuracy: 0.9925\n"
     ]
    }
   ],
   "source": [
    "score = model.evaluate(X_test, Y_test, verbose=0)\n",
    "print('Test score:', score[0])\n",
    "print('Test accuracy:', score[1])"
   ]
  },
  {
   "cell_type": "code",
   "execution_count": 6,
   "metadata": {
    "ExecuteTime": {
     "end_time": "2017-03-07T01:34:40.722877",
     "start_time": "2017-03-07T01:34:40.615647"
    },
    "collapsed": true
   },
   "outputs": [],
   "source": [
    "model.save('my_model1.h5')"
   ]
  },
  {
   "cell_type": "code",
   "execution_count": null,
   "metadata": {
    "collapsed": true
   },
   "outputs": [],
   "source": []
  }
 ],
 "metadata": {
  "kernelspec": {
   "display_name": "Python [conda root]",
   "language": "python",
   "name": "conda-root-py"
  },
  "language_info": {
   "codemirror_mode": {
    "name": "ipython",
    "version": 3
   },
   "file_extension": ".py",
   "mimetype": "text/x-python",
   "name": "python",
   "nbconvert_exporter": "python",
   "pygments_lexer": "ipython3",
   "version": "3.5.2"
  },
  "latex_envs": {
   "LaTeX_envs_menu_present": true,
   "bibliofile": "biblio.bib",
   "cite_by": "apalike",
   "current_citInitial": 1,
   "eqLabelWithNumbers": true,
   "eqNumInitial": 1,
   "labels_anchors": false,
   "latex_user_defs": false,
   "report_style_numbering": false,
   "user_envs_cfg": false
  }
 },
 "nbformat": 4,
 "nbformat_minor": 2
}
