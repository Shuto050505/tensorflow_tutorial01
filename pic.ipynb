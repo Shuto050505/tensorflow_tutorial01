{
 "cells": [
  {
   "cell_type": "code",
   "execution_count": 2,
   "metadata": {
    "ExecuteTime": {
     "end_time": "2017-03-07T01:08:46.685006",
     "start_time": "2017-03-07T01:08:45.729763"
    },
    "collapsed": true
   },
   "outputs": [],
   "source": [
    "import numpy as np\n",
    "import pandas as pd\n",
    "from pandas import Series\n",
    "import matplotlib.pyplot as plt\n",
    "import cv2\n",
    "import sys\n",
    "%matplotlib inline"
   ]
  },
  {
   "cell_type": "code",
   "execution_count": 3,
   "metadata": {
    "ExecuteTime": {
     "end_time": "2017-03-07T01:08:46.692010",
     "start_time": "2017-03-07T01:08:46.687007"
    },
    "collapsed": true
   },
   "outputs": [],
   "source": [
    "CHAN = 1\n",
    "PIX = 28\n",
    "IMAGE_PIXELS = PIX ** 2\n",
    "NUM_CLASSES = 10\n",
    "FILT = Series({'N':3,'num1':32,'num2':64,'num3':1024})\n",
    "FLAG = Series({'max_steps':15000,'learning_rate':1e-4,'train_dir':'data','batch_size':100,'test_size':2000})"
   ]
  },
  {
   "cell_type": "code",
   "execution_count": 9,
   "metadata": {
    "ExecuteTime": {
     "end_time": "2017-03-07T01:14:39.355799",
     "start_time": "2017-03-07T01:14:39.342796"
    },
    "collapsed": false
   },
   "outputs": [],
   "source": [
    "impath = '02.png'\n",
    "impath2 = '03.png'\n",
    "\n",
    "img = cv2.imread(impath)\n",
    "img = cv2.resize(img, (PIX, PIX))\n",
    "img = cv2.cvtColor(img, cv2.COLOR_RGB2GRAY)\n",
    "\n",
    "img2 = cv2.imread(impath2)\n",
    "img2 = cv2.resize(img2, (PIX, PIX))\n",
    "img2 = cv2.cvtColor(img2, cv2.COLOR_RGB2GRAY)\n",
    "\n",
    "test_image = []\n",
    "test_image.append(img.flatten().astype(np.float32)/255.0)\n",
    "test_image.append(img2.flatten().astype(np.float32)/255.0)\n",
    "\n",
    "test_image = 1 - np.asarray(test_image)"
   ]
  },
  {
   "cell_type": "code",
   "execution_count": 8,
   "metadata": {
    "ExecuteTime": {
     "end_time": "2017-03-07T01:10:35.754672",
     "start_time": "2017-03-07T01:10:35.741661"
    },
    "collapsed": false
   },
   "outputs": [
    {
     "data": {
      "text/plain": [
       "array([255, 255, 255, 255, 255, 255, 255, 255, 255, 255, 255, 255, 255,\n",
       "       255, 255, 255, 255, 255, 255, 255, 255, 255, 255, 255, 255, 255,\n",
       "       255, 255, 255, 255, 255, 255, 255, 255, 255, 255, 255, 255, 255,\n",
       "       255, 255, 255, 255, 255, 255, 255, 255, 255, 255, 255, 255, 255,\n",
       "       255, 255, 255, 255, 255, 255, 255, 255, 255, 255, 255, 255, 255,\n",
       "       255, 255, 255, 255, 255, 255, 255, 255, 255, 255, 255, 255, 255,\n",
       "       255, 255, 255, 255, 255, 255, 255, 255, 255, 255, 255, 255, 255,\n",
       "       255, 255, 255, 255, 255, 255, 255, 255, 255, 255, 255, 255, 255,\n",
       "       255, 255, 255, 255, 255, 255, 255, 255, 255, 255, 255, 255, 255,\n",
       "       255, 255, 255, 255, 255, 255, 118,  21,   0,   0,   0,   0,  89,\n",
       "       191, 255, 255, 255, 255, 255, 255, 255, 255, 255, 255, 255, 255,\n",
       "       255, 255, 255, 255, 255, 255, 173,   0,   3,  82, 187, 255, 255,\n",
       "        88,  20,   0, 199, 255, 255, 255, 255, 255, 255, 255, 255, 255,\n",
       "       255, 255, 255, 255, 255, 255, 255,  73,   0,  84, 255, 255, 255,\n",
       "       255, 255, 255, 255, 118,   0, 255, 255, 255, 255, 255, 255, 255,\n",
       "       255, 255, 255, 255, 255, 255, 255, 255, 255,   0, 106, 255, 255,\n",
       "       255, 255, 255, 255, 255, 255, 240,   0, 255, 255, 255, 255, 255,\n",
       "       255, 255, 255, 255, 255, 255, 255, 255, 255, 255, 255,   0, 255,\n",
       "       255, 255, 255, 255, 255, 255, 255, 255, 255, 117,  27, 255, 255,\n",
       "       255, 255, 255, 255, 255, 255, 255, 255, 255, 255, 255, 255, 255,\n",
       "         0, 255, 255, 255, 255, 255, 255, 255, 255, 255,   0,   0,  27,\n",
       "       255, 255, 255, 255, 255, 255, 255, 255, 255, 255, 255, 255, 255,\n",
       "       255, 255,   0, 255, 255, 255, 255, 255, 255, 255, 255,  48,   0,\n",
       "       255, 255, 255, 255, 255, 255, 255, 255, 255, 255, 255, 255, 255,\n",
       "       255, 255, 255, 255,   0, 114, 255, 255, 255, 255, 255, 253,   9,\n",
       "         0, 141, 255, 255, 255, 255, 255, 255, 255, 255, 255, 255, 255,\n",
       "       255, 255, 255, 255, 255, 255,  67,   0,  46,  46,  46, 255, 255,\n",
       "       209,   0, 157, 255, 255, 255, 255, 255, 255, 255, 255, 255, 255,\n",
       "       255, 255, 255, 255, 255, 255, 255, 255, 255, 208, 155, 155,  28,\n",
       "         0,   0,   0,   0, 100, 255, 255, 255, 255, 255, 255, 255, 255,\n",
       "       255, 255, 255, 255, 255, 255, 255, 255, 255, 255, 255, 255, 255,\n",
       "       251, 155,   0,   0, 100, 100,  25,   0, 187, 255, 255, 255, 255,\n",
       "       255, 255, 255, 255, 255, 255, 255, 255, 255, 255, 255, 255, 255,\n",
       "       209, 157,   0,   0,  46, 255, 255, 255, 255, 143,   0, 255, 255,\n",
       "       255, 255, 255, 255, 255, 255, 255, 255, 255, 255, 255, 255, 255,\n",
       "       255,   9,   0,   0,   9, 246, 255, 255, 255, 255, 255, 255,   0,\n",
       "       255, 255, 255, 255, 255, 255, 255, 255, 255, 255, 255, 255, 255,\n",
       "       255,  64,   7,   0, 191, 255, 255, 255, 255, 255, 255, 255, 255,\n",
       "       255,   0, 255, 255, 255, 255, 255, 255, 255, 255, 255, 255, 255,\n",
       "       255, 255,  80,   0, 122, 255, 255, 255, 255, 255, 255, 255, 255,\n",
       "       255, 255, 255,  93,  27, 255, 255, 255, 255, 255, 255, 255, 255,\n",
       "       255, 255, 255, 118,   0, 100, 255, 255, 255, 255, 255, 255, 255,\n",
       "       255, 255, 255, 255, 255, 173,  27, 255, 255, 255, 255, 255, 255,\n",
       "       255, 255, 255, 255, 255, 118,  82, 255, 255, 255, 255, 255, 255,\n",
       "       255, 255, 255, 255, 255, 255, 255, 173,  27, 255, 255, 255, 255,\n",
       "       255, 255, 255, 255, 255, 255, 255, 118,  82, 255, 255, 255, 255,\n",
       "       255, 255, 255, 255, 255, 255, 255, 255, 255,  19,  27, 255, 255,\n",
       "       255, 255, 255, 255, 255, 255, 255, 255, 255, 118,  82, 255, 255,\n",
       "       255, 255, 255, 255, 255, 255, 255, 255, 255, 255,  38,   0, 255,\n",
       "       255, 255, 255, 255, 255, 255, 255, 255, 255, 255, 255, 118,   0,\n",
       "       149, 255, 255, 255, 255, 255, 255, 255, 255, 137, 137,  34,   0,\n",
       "       162, 255, 255, 255, 255, 255, 255, 255, 255, 255, 255, 255, 255,\n",
       "       255,  64,   0,   0, 191, 191, 191, 184,   0,   0,   0,   0,  61,\n",
       "        64, 255, 255, 255, 255, 255, 255, 255, 255, 255, 255, 255, 255,\n",
       "       255, 255, 255, 255, 229,   9,   9,   9,   9,   9, 211, 255, 255,\n",
       "       255, 255, 255, 255, 255, 255, 255, 255, 255, 255, 255, 255, 255,\n",
       "       255, 255, 255, 255, 255, 255, 255, 255, 255, 255, 255, 255, 255,\n",
       "       255, 255, 255, 255, 255, 255, 255, 255, 255, 255, 255, 255, 255,\n",
       "       255, 255, 255, 255, 255, 255, 255, 255, 255, 255, 255, 255, 255,\n",
       "       255, 255, 255, 255, 255, 255, 255, 255, 255, 255, 255, 255, 255,\n",
       "       255, 255, 255, 255], dtype=uint8)"
      ]
     },
     "execution_count": 8,
     "metadata": {},
     "output_type": "execute_result"
    }
   ],
   "source": [
    "img.flatten()"
   ]
  },
  {
   "cell_type": "code",
   "execution_count": 5,
   "metadata": {
    "ExecuteTime": {
     "end_time": "2017-03-07T00:55:46.236385",
     "start_time": "2017-03-07T00:55:44.791668"
    },
    "collapsed": true
   },
   "outputs": [],
   "source": [
    "import tensorflow as tf\n",
    "import numpy as np\n",
    "import pandas as pd\n",
    "from pandas import Series\n",
    "import cv2\n",
    "import sys\n",
    "\n",
    "\n",
    "# In[5]:\n",
    "\n",
    "CHAN = 1\n",
    "PIX = 28\n",
    "IMAGE_PIXELS = PIX ** 2\n",
    "NUM_CLASSES = 10\n",
    "FILT = Series({'N':3,'num1':32,'num2':64,'num3':1024})\n",
    "FLAG = Series({'max_steps':15000,'learning_rate':1e-4,'train_dir':'data','batch_size':100,'test_size':2000})\n",
    "\n",
    "\n",
    "# In[ ]:\n",
    "\n",
    "# 重みを標準偏差0.1の正規分布で初期化\n",
    "def weight_variable(shape):\n",
    "    initial = tf.truncated_normal(shape, stddev=0.1)\n",
    "    return tf.Variable(initial)\n",
    "\n",
    "# バイアスを標準偏差0.1の正規分布で初期化\n",
    "def bias_variable(shape):\n",
    "    initial = tf.constant(0.1, shape=shape)\n",
    "    return tf.Variable(initial)\n",
    "\n",
    "# 畳み込み層の作成\n",
    "def conv2d(x, W):\n",
    "    return tf.nn.conv2d(x, W, strides=[1, 1, 1, 1], padding='SAME')\n",
    "\n",
    "# プーリング層の作成\n",
    "def max_pool_2x2(x):\n",
    "    return tf.nn.max_pool(x, ksize=[1, 2, 2, 1],strides=[1, 2, 2, 1], padding='SAME')\n",
    "\n",
    "\n",
    "# In[3]:\n",
    "\n",
    "def inference(images_placeholder, keep_prob):\n",
    "    \"\"\" 予測モデルを作成する関数\n",
    "\n",
    "    引数: \n",
    "      images_placeholder: 画像のplaceholder\n",
    "      keep_prob: dropout率のplaceholder\n",
    "\n",
    "    返り値:\n",
    "      y_conv: 各クラスの確率(のようなもの)\n",
    "    \"\"\"\n",
    "\n",
    "    # 入力を変形\n",
    "    x_image = tf.reshape(images_placeholder, [-1, PIX, PIX, CHAN])\n",
    "\n",
    "    # 畳み込み層1の作成\n",
    "    with tf.name_scope('conv1') as scope:\n",
    "        W_conv1 = weight_variable([FILT.N, FILT.N, CHAN, FILT.num1])\n",
    "        b_conv1 = bias_variable([FILT.num1])\n",
    "        h_conv1 = tf.nn.relu(conv2d(x_image, W_conv1) + b_conv1)\n",
    "        \n",
    "    # 畳み込み層1aの作成\n",
    "    with tf.name_scope('conv1a') as scope:\n",
    "        W_conv1a = weight_variable([FILT.N, FILT.N, FILT.num1, FILT.num1])\n",
    "        b_conv1a = bias_variable([FILT.num1])\n",
    "        h_conv1a = tf.nn.relu(conv2d(h_conv1, W_conv1a) + b_conv1a)\n",
    "\n",
    "    # プーリング層1の作成\n",
    "    with tf.name_scope('pool1') as scope:\n",
    "        h_pool1 = max_pool_2x2(h_conv1a)\n",
    "    \n",
    "    # 畳み込み層2の作成\n",
    "    with tf.name_scope('conv2') as scope:\n",
    "        W_conv2 = weight_variable([FILT.N, FILT.N, FILT.num1, FILT.num2])\n",
    "        b_conv2 = bias_variable([FILT.num2])\n",
    "        h_conv2 = tf.nn.relu(conv2d(h_pool1, W_conv2) + b_conv2)\n",
    "\n",
    "    # 畳み込み層2aの作成\n",
    "    with tf.name_scope('conv2a') as scope:\n",
    "        W_conv2a = weight_variable([FILT.N, FILT.N, FILT.num2, FILT.num2])\n",
    "        b_conv2a = bias_variable([FILT.num2])\n",
    "        h_conv2a = tf.nn.relu(conv2d(h_conv2, W_conv2a) + b_conv2a)\n",
    "        \n",
    "    # プーリング層2の作成\n",
    "    with tf.name_scope('pool2') as scope:\n",
    "        h_pool2 = max_pool_2x2(h_conv2a)\n",
    "\n",
    "    # 全結合層1の作成\n",
    "    with tf.name_scope('fc1') as scope:\n",
    "        num4 = int((PIX/4)*(PIX/4)*FILT.num2)\n",
    "        W_fc1 = weight_variable([num4, FILT.num3])\n",
    "        b_fc1 = bias_variable([FILT.num3])\n",
    "        h_pool2_flat = tf.reshape(h_pool2, [-1, num4])\n",
    "        h_fc1 = tf.nn.relu(tf.matmul(h_pool2_flat, W_fc1) + b_fc1)\n",
    "        # dropoutの設定\n",
    "        h_fc1_drop = tf.nn.dropout(h_fc1, keep_prob)\n",
    "\n",
    "    # 全結合層2の作成\n",
    "    with tf.name_scope('fc2') as scope:\n",
    "        W_fc2 = weight_variable([FILT.num3, NUM_CLASSES])\n",
    "        b_fc2 = bias_variable([NUM_CLASSES])\n",
    "\n",
    "    # ソフトマックス関数による正規化\n",
    "    with tf.name_scope('softmax') as scope:\n",
    "        y_conv=tf.nn.softmax(tf.matmul(h_fc1_drop, W_fc2) + b_fc2)\n",
    "\n",
    "    # 各ラベルの確率のようなものを返す\n",
    "    return y_conv"
   ]
  },
  {
   "cell_type": "code",
   "execution_count": 6,
   "metadata": {
    "ExecuteTime": {
     "end_time": "2017-03-07T00:55:47.495767",
     "start_time": "2017-03-07T00:55:46.237370"
    },
    "collapsed": true
   },
   "outputs": [],
   "source": [
    "images_placeholder = tf.placeholder(\"float\", shape=(None, IMAGE_PIXELS))\n",
    "labels_placeholder = tf.placeholder(\"float\", shape=(None, NUM_CLASSES))\n",
    "keep_prob = tf.placeholder(tf.float32)\n",
    "\n",
    "logits = inference(images_placeholder, keep_prob)\n",
    "sess = tf.InteractiveSession()"
   ]
  },
  {
   "cell_type": "code",
   "execution_count": 7,
   "metadata": {
    "ExecuteTime": {
     "end_time": "2017-03-07T00:55:48.201780",
     "start_time": "2017-03-07T00:55:47.496754"
    },
    "collapsed": false
   },
   "outputs": [],
   "source": [
    "saver = tf.train.Saver()\n",
    "sess.run(tf.global_variables_initializer())\n",
    "saver.restore(sess, \"kept\\model.ckpt\")"
   ]
  },
  {
   "cell_type": "code",
   "execution_count": 8,
   "metadata": {
    "ExecuteTime": {
     "end_time": "2017-03-07T00:55:48.833767",
     "start_time": "2017-03-07T00:55:48.203783"
    },
    "collapsed": false
   },
   "outputs": [
    {
     "name": "stdout",
     "output_type": "stream",
     "text": [
      "Answer:  [[  1.48478723e-13   1.20193420e-08   2.07974108e-06   1.61270984e-02\n",
      "    5.48175505e-10   1.40434495e-04   4.24331290e-07   1.30129747e-08\n",
      "    9.83729780e-01   1.01462021e-07]]\n",
      "Answer:  [[  5.91680926e-10   2.97122635e-04   1.19809747e-05   1.08582235e-05\n",
      "    4.20918020e-08   1.88441443e-10   1.94936646e-07   9.99657631e-01\n",
      "    1.26934356e-05   9.44085332e-06]]\n"
     ]
    }
   ],
   "source": [
    "for i in range(len(test_image)):\n",
    "    #pred = np.argmax(logits.eval(feed_dict={ images_placeholder: [test_image[i]],keep_prob: 1.0 }))\n",
    "    pred = logits.eval(feed_dict={ images_placeholder: [test_image[i]],keep_prob: 1.0 })\n",
    "    print('Answer: ',pred)"
   ]
  },
  {
   "cell_type": "code",
   "execution_count": null,
   "metadata": {
    "collapsed": true
   },
   "outputs": [],
   "source": []
  }
 ],
 "metadata": {
  "kernelspec": {
   "display_name": "Python [conda root]",
   "language": "python",
   "name": "conda-root-py"
  },
  "language_info": {
   "codemirror_mode": {
    "name": "ipython",
    "version": 3
   },
   "file_extension": ".py",
   "mimetype": "text/x-python",
   "name": "python",
   "nbconvert_exporter": "python",
   "pygments_lexer": "ipython3",
   "version": "3.5.2"
  },
  "latex_envs": {
   "LaTeX_envs_menu_present": true,
   "bibliofile": "biblio.bib",
   "cite_by": "apalike",
   "current_citInitial": 1,
   "eqLabelWithNumbers": true,
   "eqNumInitial": 0,
   "labels_anchors": false,
   "latex_user_defs": false,
   "report_style_numbering": false,
   "user_envs_cfg": false
  }
 },
 "nbformat": 4,
 "nbformat_minor": 2
}
