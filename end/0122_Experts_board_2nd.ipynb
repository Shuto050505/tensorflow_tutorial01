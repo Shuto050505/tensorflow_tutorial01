{
 "cells": [
  {
   "cell_type": "code",
   "execution_count": 1,
   "metadata": {
    "ExecuteTime": {
     "end_time": "2017-01-23T16:35:56.831729",
     "start_time": "2017-01-23T16:35:55.011500"
    },
    "collapsed": true
   },
   "outputs": [],
   "source": [
    "import tensorflow as tf"
   ]
  },
  {
   "cell_type": "code",
   "execution_count": 2,
   "metadata": {
    "ExecuteTime": {
     "end_time": "2017-01-23T16:35:56.837716",
     "start_time": "2017-01-23T16:35:56.832705"
    },
    "collapsed": false
   },
   "outputs": [],
   "source": [
    "import numpy as np"
   ]
  },
  {
   "cell_type": "code",
   "execution_count": 2,
   "metadata": {
    "ExecuteTime": {
     "end_time": "2017-01-23T17:02:09.500747",
     "start_time": "2017-01-23T17:02:09.497243"
    },
    "collapsed": false
   },
   "outputs": [],
   "source": [
    "EPOCH = 10000\n",
    "BATCH = 100\n",
    "PICT = 28\n",
    "PICT2 = PICT**2\n",
    "ANS = 10\n",
    "CHAN = 1\n",
    "FILTER = 3"
   ]
  },
  {
   "cell_type": "code",
   "execution_count": 3,
   "metadata": {
    "ExecuteTime": {
     "end_time": "2017-01-23T16:35:58.029356",
     "start_time": "2017-01-23T16:35:56.839698"
    },
    "collapsed": true
   },
   "outputs": [],
   "source": [
    "# Session確立\n",
    "sess = tf.InteractiveSession()"
   ]
  },
  {
   "cell_type": "code",
   "execution_count": 4,
   "metadata": {
    "ExecuteTime": {
     "end_time": "2017-01-23T16:36:00.150289",
     "start_time": "2017-01-23T16:35:58.032358"
    },
    "collapsed": false
   },
   "outputs": [
    {
     "name": "stdout",
     "output_type": "stream",
     "text": [
      "Extracting MNIST_data\\train-images-idx3-ubyte.gz\n",
      "Extracting MNIST_data\\train-labels-idx1-ubyte.gz\n",
      "Extracting MNIST_data\\t10k-images-idx3-ubyte.gz\n",
      "Extracting MNIST_data\\t10k-labels-idx1-ubyte.gz\n"
     ]
    }
   ],
   "source": [
    "# データ読み込み\n",
    "from tensorflow.examples.tutorials.mnist import input_data\n",
    "mnist = input_data.read_data_sets('MNIST_data', one_hot=True)"
   ]
  },
  {
   "cell_type": "code",
   "execution_count": 5,
   "metadata": {
    "ExecuteTime": {
     "end_time": "2017-01-23T16:36:00.187319",
     "start_time": "2017-01-23T16:36:00.152271"
    },
    "collapsed": true
   },
   "outputs": [],
   "source": [
    "# placeholder\n",
    "x = tf.placeholder(tf.float32, shape=[None, PICT2])\n",
    "y_ = tf.placeholder(tf.float32, shape=[None, ANS])\n",
    "\n",
    "# variable\n",
    "W = tf.Variable(tf.zeros([PICT2,ANS]))\n",
    "b = tf.Variable(tf.zeros([ANS]))\n",
    "#sess.run(tf.global_variables_initializer())"
   ]
  },
  {
   "cell_type": "code",
   "execution_count": 6,
   "metadata": {
    "ExecuteTime": {
     "end_time": "2017-01-23T16:36:00.197304",
     "start_time": "2017-01-23T16:36:00.189299"
    },
    "collapsed": true
   },
   "outputs": [],
   "source": [
    "# 画像をreshape\n",
    "# 4つめの引数はチャンネル数\n",
    "x_image = tf.reshape(x, [-1,PICT,PICT,CHAN])"
   ]
  },
  {
   "cell_type": "code",
   "execution_count": 7,
   "metadata": {
    "ExecuteTime": {
     "end_time": "2017-01-23T16:36:00.236339",
     "start_time": "2017-01-23T16:36:00.200306"
    },
    "collapsed": true
   },
   "outputs": [],
   "source": [
    "# 第一層のweightsとbiasのvariable\n",
    "#　5*5*1のフィルターを32個\n",
    "W_conv1 = tf.Variable(tf.truncated_normal([FILTER, FILTER, CHAN, 32], stddev=0.1))\n",
    "b_conv1 = tf.Variable(tf.constant(0.1, shape=[32]))\n",
    "\n",
    "# 第一層のconvolutionalとpool\n",
    "#　1つずつ移動\n",
    "#　2*2のフィルターを2個ずつ移動\n",
    "#　出力は14*14*32の画像\n",
    "h_conv1 = tf.nn.relu(tf.nn.conv2d(x_image, W_conv1, strides=[1, 1, 1, 1], padding='SAME') + b_conv1)\n",
    "h_pool1 = tf.nn.max_pool(h_conv1, ksize=[1, 2, 2, 1], strides=[1, 2, 2, 1], padding='SAME')"
   ]
  },
  {
   "cell_type": "code",
   "execution_count": 8,
   "metadata": {
    "ExecuteTime": {
     "end_time": "2017-01-23T16:36:00.275367",
     "start_time": "2017-01-23T16:36:00.239340"
    },
    "collapsed": true
   },
   "outputs": [],
   "source": [
    "# 第二層のweightsとbiasのvariable\n",
    "#　5*5*32のフィルターを64個\n",
    "W_conv2 = tf.Variable(tf.truncated_normal([FILTER, FILTER, 32, 64], stddev=0.1))\n",
    "b_conv2 = tf.Variable(tf.constant(0.1, shape=[64]))\n",
    "\n",
    "# 第二層のconvolutionalとpool\n",
    "#　1つずつ移動\n",
    "#　2*2のフィルターを2個ずつ移動\n",
    "#　出力は7*7*64の画像\n",
    "h_conv2 = tf.nn.relu(tf.nn.conv2d(h_pool1, W_conv2, strides=[1, 1, 1, 1], padding='SAME') + b_conv2)\n",
    "h_pool2 = tf.nn.max_pool(h_conv2, ksize=[1, 2, 2, 1], strides=[1, 2, 2, 1], padding='SAME')"
   ]
  },
  {
   "cell_type": "code",
   "execution_count": 9,
   "metadata": {
    "ExecuteTime": {
     "end_time": "2017-01-23T16:36:00.317908",
     "start_time": "2017-01-23T16:36:00.278370"
    },
    "collapsed": true
   },
   "outputs": [],
   "source": [
    "# Relu層\n",
    "#　weightsとbiasのvariable\n",
    "W_fc1 = tf.Variable(tf.truncated_normal([7 * 7 * 64, 1024], stddev=0.1))\n",
    "b_fc1 = tf.Variable(tf.constant(0.1, shape=[1024]))\n",
    "\n",
    "#　ベクトルに再変換\n",
    "#　第一層と第二層でreduceされてできた特徴に対してrelu\n",
    "#　出力1024のベクトル\n",
    "h_pool2_flat = tf.reshape(h_pool2, [-1, 7*7*64])\n",
    "h_fc1 = tf.nn.relu(tf.matmul(h_pool2_flat, W_fc1) + b_fc1)"
   ]
  },
  {
   "cell_type": "code",
   "execution_count": 10,
   "metadata": {
    "ExecuteTime": {
     "end_time": "2017-01-23T16:36:00.341124",
     "start_time": "2017-01-23T16:36:00.320113"
    },
    "collapsed": true
   },
   "outputs": [],
   "source": [
    "# Dropout層\n",
    "#keep_prob: dropout率のplace_holder\n",
    "keep_prob = tf.placeholder(tf.float32)\n",
    "h_fc1_drop = tf.nn.dropout(h_fc1, keep_prob)"
   ]
  },
  {
   "cell_type": "code",
   "execution_count": 11,
   "metadata": {
    "ExecuteTime": {
     "end_time": "2017-01-23T16:36:00.379151",
     "start_time": "2017-01-23T16:36:00.344125"
    },
    "collapsed": true
   },
   "outputs": [],
   "source": [
    "# Softmax層\n",
    "W_fc2 = tf.Variable(tf.truncated_normal([1024, 10], stddev=0.1))\n",
    "b_fc2 = tf.Variable(tf.constant(0.1, shape=[10]))\n",
    "\n",
    "y_conv=tf.nn.softmax(tf.matmul(h_fc1_drop, W_fc2) + b_fc2)"
   ]
  },
  {
   "cell_type": "code",
   "execution_count": 12,
   "metadata": {
    "ExecuteTime": {
     "end_time": "2017-01-23T16:36:00.394161",
     "start_time": "2017-01-23T16:36:00.381151"
    },
    "collapsed": true
   },
   "outputs": [],
   "source": [
    "# 交差エントロピー層\n",
    "cross_entropy = -tf.reduce_sum(y_*tf.log(y_conv))"
   ]
  },
  {
   "cell_type": "code",
   "execution_count": 13,
   "metadata": {
    "ExecuteTime": {
     "end_time": "2017-01-23T16:36:00.762971",
     "start_time": "2017-01-23T16:36:00.396162"
    },
    "collapsed": true
   },
   "outputs": [],
   "source": [
    "# AdamOptimizerで最適化\n",
    "train_step = tf.train.AdamOptimizer(1e-4).minimize(cross_entropy)"
   ]
  },
  {
   "cell_type": "code",
   "execution_count": 14,
   "metadata": {
    "ExecuteTime": {
     "end_time": "2017-01-23T16:36:00.781993",
     "start_time": "2017-01-23T16:36:00.764961"
    },
    "collapsed": true
   },
   "outputs": [],
   "source": [
    "# accuracyを途中確認するための入れ物\n",
    "correct_prediction = tf.equal(tf.argmax(y_conv,1), tf.argmax(y_,1))\n",
    "accuracy = tf.reduce_mean(tf.cast(correct_prediction, tf.float32))"
   ]
  },
  {
   "cell_type": "code",
   "execution_count": 15,
   "metadata": {
    "ExecuteTime": {
     "end_time": "2017-01-23T16:36:01.632128",
     "start_time": "2017-01-23T16:36:00.783974"
    },
    "collapsed": false
   },
   "outputs": [],
   "source": [
    "# variable初期化\n",
    "sess.run(tf.global_variables_initializer())"
   ]
  },
  {
   "cell_type": "code",
   "execution_count": 16,
   "metadata": {
    "ExecuteTime": {
     "end_time": "2017-01-23T16:36:01.642129",
     "start_time": "2017-01-23T16:36:01.635127"
    },
    "collapsed": false
   },
   "outputs": [],
   "source": []
  },
  {
   "cell_type": "code",
   "execution_count": 17,
   "metadata": {
    "ExecuteTime": {
     "end_time": "2017-01-23T16:36:01.662142",
     "start_time": "2017-01-23T16:36:01.646133"
    },
    "collapsed": false
   },
   "outputs": [],
   "source": [
    "# summaryの設定 ver1\n",
    "#tf.summary.scalar('cross_entropy', cross_entropy)\n",
    "#summary_op = tf.summary.merge_all()\n",
    "#summary_writer = tf.summary.FileWriter('data', graph=sess.graph)"
   ]
  },
  {
   "cell_type": "code",
   "execution_count": 22,
   "metadata": {
    "ExecuteTime": {
     "end_time": "2017-01-23T16:41:47.536760",
     "start_time": "2017-01-23T16:41:47.146301"
    },
    "collapsed": false
   },
   "outputs": [],
   "source": [
    "# summaryの設定 ver2\n",
    "cost_summary_op_train = tf.summary.scalar(\"Cross_Entropy_on_Train\", cross_entropy)\n",
    "cost_summary_op_test = tf.summary.scalar(\"Cross_Entropy_on_Test\", cross_entropy)\n",
    "accuracy_op_train = tf.summary.scalar(\"Accuracy_on_Train\", accuracy)\n",
    "accuracy_op_test = tf.summary.scalar(\"Accuracy_on_Test\", accuracy)\n",
    "\n",
    "# summary_op = tf.merge_all_summaries() の代わりに、訓練データとテストデータ用のサマリーを別々にマージする\n",
    "summary_op_train = tf.summary.merge([cost_summary_op_train, accuracy_op_train])\n",
    "summary_op_test = tf.summary.merge([cost_summary_op_test, accuracy_op_test])\n",
    "summary_writer = tf.summary.FileWriter('data', graph=sess.graph)"
   ]
  },
  {
   "cell_type": "code",
   "execution_count": 19,
   "metadata": {
    "ExecuteTime": {
     "end_time": "2017-01-23T16:40:16.576679",
     "start_time": "2017-01-23T16:36:02.581016"
    },
    "collapsed": false,
    "scrolled": true
   },
   "outputs": [
    {
     "name": "stdout",
     "output_type": "stream",
     "text": [
      "step 0, training accuracy 0.13\n",
      "step 100, training accuracy 0.91\n",
      "step 200, training accuracy 0.94\n",
      "step 300, training accuracy 0.97\n",
      "step 400, training accuracy 0.9\n",
      "step 500, training accuracy 0.96\n",
      "step 600, training accuracy 0.94\n",
      "step 700, training accuracy 0.93\n",
      "step 800, training accuracy 0.96\n",
      "step 900, training accuracy 0.96\n",
      "step 1000, training accuracy 0.93\n",
      "step 1100, training accuracy 0.98\n",
      "step 1200, training accuracy 0.99\n",
      "step 1300, training accuracy 0.97\n",
      "step 1400, training accuracy 0.98\n",
      "step 1500, training accuracy 0.95\n",
      "step 1600, training accuracy 0.99\n",
      "step 1700, training accuracy 0.98\n",
      "step 1800, training accuracy 0.99\n",
      "step 1900, training accuracy 0.97\n",
      "step 2000, training accuracy 0.97\n",
      "step 2100, training accuracy 0.99\n",
      "step 2200, training accuracy 1\n",
      "step 2300, training accuracy 0.98\n",
      "step 2400, training accuracy 0.96\n",
      "step 2500, training accuracy 1\n",
      "step 2600, training accuracy 0.97\n",
      "step 2700, training accuracy 0.99\n",
      "step 2800, training accuracy 0.99\n",
      "step 2900, training accuracy 0.99\n",
      "step 3000, training accuracy 1\n",
      "step 3100, training accuracy 0.98\n",
      "step 3200, training accuracy 0.98\n",
      "step 3300, training accuracy 0.99\n",
      "step 3400, training accuracy 1\n",
      "step 3500, training accuracy 1\n",
      "step 3600, training accuracy 0.99\n",
      "step 3700, training accuracy 0.99\n",
      "step 3800, training accuracy 0.99\n",
      "step 3900, training accuracy 0.99\n",
      "step 4000, training accuracy 1\n",
      "step 4100, training accuracy 0.97\n",
      "step 4200, training accuracy 0.99\n",
      "step 4300, training accuracy 0.98\n",
      "step 4400, training accuracy 0.99\n",
      "step 4500, training accuracy 1\n",
      "step 4600, training accuracy 1\n",
      "step 4700, training accuracy 0.98\n",
      "step 4800, training accuracy 0.99\n",
      "step 4900, training accuracy 1\n",
      "step 5000, training accuracy 0.99\n",
      "step 5100, training accuracy 0.99\n",
      "step 5200, training accuracy 1\n",
      "step 5300, training accuracy 1\n",
      "step 5400, training accuracy 0.99\n",
      "step 5500, training accuracy 0.99\n",
      "step 5600, training accuracy 0.98\n",
      "step 5700, training accuracy 1\n",
      "step 5800, training accuracy 0.99\n",
      "step 5900, training accuracy 0.99\n",
      "step 6000, training accuracy 1\n",
      "step 6100, training accuracy 1\n",
      "step 6200, training accuracy 1\n",
      "step 6300, training accuracy 0.97\n",
      "step 6400, training accuracy 0.99\n",
      "step 6500, training accuracy 1\n",
      "step 6600, training accuracy 0.99\n",
      "step 6700, training accuracy 1\n",
      "step 6800, training accuracy 1\n",
      "step 6900, training accuracy 0.98\n",
      "step 7000, training accuracy 0.99\n",
      "step 7100, training accuracy 1\n",
      "step 7200, training accuracy 1\n",
      "step 7300, training accuracy 1\n",
      "step 7400, training accuracy 0.99\n",
      "step 7500, training accuracy 1\n",
      "step 7600, training accuracy 0.99\n",
      "step 7700, training accuracy 1\n",
      "step 7800, training accuracy 0.99\n",
      "step 7900, training accuracy 1\n",
      "step 8000, training accuracy 1\n",
      "step 8100, training accuracy 1\n",
      "step 8200, training accuracy 0.98\n",
      "step 8300, training accuracy 0.99\n",
      "step 8400, training accuracy 1\n",
      "step 8500, training accuracy 1\n",
      "step 8600, training accuracy 1\n",
      "step 8700, training accuracy 1\n",
      "step 8800, training accuracy 0.99\n",
      "step 8900, training accuracy 1\n",
      "step 9000, training accuracy 1\n",
      "step 9100, training accuracy 1\n",
      "step 9200, training accuracy 1\n",
      "step 9300, training accuracy 1\n",
      "step 9400, training accuracy 0.99\n",
      "step 9500, training accuracy 1\n",
      "step 9600, training accuracy 1\n",
      "step 9700, training accuracy 1\n",
      "step 9800, training accuracy 1\n",
      "step 9900, training accuracy 1\n"
     ]
    }
   ],
   "source": [
    "# accuracyを確認しつつtrain\n",
    "accracies = []\n",
    "\n",
    "#10000枚の画像を投げるとキャパオーバーしてしまう（7000枚くらいが限界）\n",
    "imgtest = mnist.test.images.shape\n",
    "\n",
    "#実行速度計測\n",
    "import time\n",
    "start = time.time()\n",
    "\n",
    "for i in range(EPOCH):\n",
    "    batch_x, batch_y = mnist.train.next_batch(BATCH)\n",
    "    \n",
    "    if i%100 == 0:\n",
    "        train_dict = {x:batch_x, y_: batch_y, keep_prob: 1.0}\n",
    "        train_accuracy = accuracy.eval(feed_dict= train_dict)\n",
    "        accracies.append(train_accuracy)\n",
    "        print(\"step %d, training accuracy %g\"%(i, train_accuracy))\n",
    "        \n",
    "        #test data をランダムに枚選択\n",
    "        sed = np.random.permutation(imgtest[0])\n",
    "        sed = sed[:imgtest/2]\n",
    "        test_image = mnist.test.images[sed, :]\n",
    "        test_label = mnist.test.labels[sed, :]\n",
    "        test_dict = {x:test_image, y_: test_label, keep_prob: 1.0}\n",
    "        \n",
    "        #1\n",
    "        #summary_str = sess.run(summary_op, feed_dict=test_dict)\n",
    "        #summary_writer.add_summary(summary_str, i)\n",
    "        \n",
    "        #2\n",
    "        summary_str = sess.run(summary_op_train, feed_dict=train_dict)\n",
    "        summary_writer.add_summary(summary_str, i)\n",
    "        summary_str = sess.run(summary_op_test, feed_dict=test_dict)\n",
    "        summary_writer.add_summary(summary_str, i)\n",
    "        summary_writer.flush()\n",
    "        \n",
    "    train_step.run(feed_dict={x: batch_x, y_: batch_y, keep_prob: 0.5})\n",
    "\n",
    "elapsed_time = time.time() - start"
   ]
  },
  {
   "cell_type": "code",
   "execution_count": 20,
   "metadata": {
    "ExecuteTime": {
     "end_time": "2017-01-23T16:40:16.590690",
     "start_time": "2017-01-23T16:40:16.581682"
    },
    "collapsed": false
   },
   "outputs": [
    {
     "name": "stdout",
     "output_type": "stream",
     "text": [
      "finish_time: 253 [sec]\n"
     ]
    }
   ],
   "source": [
    "#実行速度 about 8min\n",
    "print((\"finish_time: {0}\".format(int(elapsed_time))) + \" [sec]\")"
   ]
  },
  {
   "cell_type": "code",
   "execution_count": 21,
   "metadata": {
    "ExecuteTime": {
     "end_time": "2017-01-23T16:40:17.466276",
     "start_time": "2017-01-23T16:40:16.593691"
    },
    "collapsed": false
   },
   "outputs": [
    {
     "name": "stdout",
     "output_type": "stream",
     "text": [
      "test accuracy 0.989143\n"
     ]
    }
   ],
   "source": [
    "# test_accuracyを表示1　バッチ処理で制御\n",
    "#batch_tx, batch_ty = mnist.test.next_batch(7000)\n",
    "#print(\"test accuracy %g\"%accuracy.eval(feed_dict={x:batch_tx, y_: batch_ty, keep_prob: 1.0}))\n",
    "  #=> 0.9923"
   ]
  },
  {
   "cell_type": "code",
   "execution_count": null,
   "metadata": {
    "collapsed": true
   },
   "outputs": [],
   "source": []
  }
 ],
 "metadata": {
  "kernelspec": {
   "display_name": "Python [conda root]",
   "language": "python",
   "name": "conda-root-py"
  },
  "language_info": {
   "codemirror_mode": {
    "name": "ipython",
    "version": 3
   },
   "file_extension": ".py",
   "mimetype": "text/x-python",
   "name": "python",
   "nbconvert_exporter": "python",
   "pygments_lexer": "ipython3",
   "version": "3.5.2"
  },
  "latex_envs": {
   "bibliofile": "biblio.bib",
   "cite_by": "apalike",
   "current_citInitial": 1,
   "eqLabelWithNumbers": true,
   "eqNumInitial": 0
  }
 },
 "nbformat": 4,
 "nbformat_minor": 2
}
