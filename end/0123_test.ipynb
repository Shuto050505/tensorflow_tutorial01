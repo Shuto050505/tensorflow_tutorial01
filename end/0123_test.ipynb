{
 "cells": [
  {
   "cell_type": "code",
   "execution_count": 1,
   "metadata": {
    "ExecuteTime": {
     "end_time": "2017-01-23T21:44:38.630571",
     "start_time": "2017-01-23T21:44:36.899038"
    },
    "collapsed": true
   },
   "outputs": [],
   "source": [
    "import tensorflow as tf\n",
    "import numpy as np\n",
    "import pandas as pd\n",
    "from pandas import Series\n",
    "import cv2"
   ]
  },
  {
   "cell_type": "code",
   "execution_count": 5,
   "metadata": {
    "ExecuteTime": {
     "end_time": "2017-01-23T21:45:20.622455",
     "start_time": "2017-01-23T21:45:20.617448"
    },
    "collapsed": false
   },
   "outputs": [],
   "source": [
    "CHAN = 1\n",
    "PIX = 28\n",
    "IMAGE_PIXELS = PIX ** 2\n",
    "NUM_CLASSES = 10\n",
    "FILT = Series({'N':3,'num1':32,'num2':64,'num3':1024})\n",
    "FLAG = Series({'max_steps':15000,'learning_rate':1e-4,'train_dir':'data','batch_size':100,'test_size':2000})"
   ]
  },
  {
   "cell_type": "code",
   "execution_count": null,
   "metadata": {
    "ExecuteTime": {
     "end_time": "2017-01-23T21:44:38.801611",
     "start_time": "2017-01-23T12:44:38.293Z"
    },
    "collapsed": true
   },
   "outputs": [],
   "source": [
    "# 重みを標準偏差0.1の正規分布で初期化\n",
    "def weight_variable(shape):\n",
    "    initial = tf.truncated_normal(shape, stddev=0.1)\n",
    "    return tf.Variable(initial)\n",
    "\n",
    "# バイアスを標準偏差0.1の正規分布で初期化\n",
    "def bias_variable(shape):\n",
    "    initial = tf.constant(0.1, shape=shape)\n",
    "    return tf.Variable(initial)\n",
    "\n",
    "# 畳み込み層の作成\n",
    "def conv2d(x, W):\n",
    "    return tf.nn.conv2d(x, W, strides=[1, 1, 1, 1], padding='SAME')\n",
    "\n",
    "# プーリング層の作成\n",
    "def max_pool_2x2(x):\n",
    "    return tf.nn.max_pool(x, ksize=[1, 2, 2, 1],strides=[1, 2, 2, 1], padding='SAME')"
   ]
  },
  {
   "cell_type": "code",
   "execution_count": 3,
   "metadata": {
    "ExecuteTime": {
     "end_time": "2017-01-23T21:44:39.611507",
     "start_time": "2017-01-23T21:44:39.551447"
    },
    "collapsed": true
   },
   "outputs": [],
   "source": [
    "def inference(images_placeholder, keep_prob):\n",
    "    \"\"\" 予測モデルを作成する関数\n",
    "\n",
    "    引数: \n",
    "      images_placeholder: 画像のplaceholder\n",
    "      keep_prob: dropout率のplaceholder\n",
    "\n",
    "    返り値:\n",
    "      y_conv: 各クラスの確率(のようなもの)\n",
    "    \"\"\"\n",
    "\n",
    "    # 入力を変形\n",
    "    x_image = tf.reshape(images_placeholder, [-1, PIX, PIX, CHAN])\n",
    "\n",
    "    # 畳み込み層1の作成\n",
    "    with tf.name_scope('conv1') as scope:\n",
    "        W_conv1 = weight_variable([FILT.N, FILT.N, CHAN, FILT.num1])\n",
    "        b_conv1 = bias_variable([FILT.num1])\n",
    "        h_conv1 = tf.nn.relu(conv2d(x_image, W_conv1) + b_conv1)\n",
    "        \n",
    "    # 畳み込み層1aの作成\n",
    "    with tf.name_scope('conv1a') as scope:\n",
    "        W_conv1a = weight_variable([FILT.N, FILT.N, FILT.num1, FILT.num1])\n",
    "        b_conv1a = bias_variable([FILT.num1])\n",
    "        h_conv1a = tf.nn.relu(conv2d(h_conv1, W_conv1a) + b_conv1a)\n",
    "\n",
    "    # プーリング層1の作成\n",
    "    with tf.name_scope('pool1') as scope:\n",
    "        h_pool1 = max_pool_2x2(h_conv1a)\n",
    "    \n",
    "    # 畳み込み層2の作成\n",
    "    with tf.name_scope('conv2') as scope:\n",
    "        W_conv2 = weight_variable([FILT.N, FILT.N, FILT.num1, FILT.num2])\n",
    "        b_conv2 = bias_variable([FILT.num2])\n",
    "        h_conv2 = tf.nn.relu(conv2d(h_pool1, W_conv2) + b_conv2)\n",
    "\n",
    "    # 畳み込み層2aの作成\n",
    "    with tf.name_scope('conv2a') as scope:\n",
    "        W_conv2a = weight_variable([FILT.N, FILT.N, FILT.num2, FILT.num2])\n",
    "        b_conv2a = bias_variable([FILT.num2])\n",
    "        h_conv2a = tf.nn.relu(conv2d(h_conv2, W_conv2a) + b_conv2a)\n",
    "        \n",
    "    # プーリング層2の作成\n",
    "    with tf.name_scope('pool2') as scope:\n",
    "        h_pool2 = max_pool_2x2(h_conv2a)\n",
    "\n",
    "    # 全結合層1の作成\n",
    "    with tf.name_scope('fc1') as scope:\n",
    "        num4 = int((PIX/4)*(PIX/4)*FILT.num2)\n",
    "        W_fc1 = weight_variable([num4, FILT.num3])\n",
    "        b_fc1 = bias_variable([FILT.num3])\n",
    "        h_pool2_flat = tf.reshape(h_pool2, [-1, num4])\n",
    "        h_fc1 = tf.nn.relu(tf.matmul(h_pool2_flat, W_fc1) + b_fc1)\n",
    "        # dropoutの設定\n",
    "        h_fc1_drop = tf.nn.dropout(h_fc1, keep_prob)\n",
    "\n",
    "    # 全結合層2の作成\n",
    "    with tf.name_scope('fc2') as scope:\n",
    "        W_fc2 = weight_variable([FILT.num3, NUM_CLASSES])\n",
    "        b_fc2 = bias_variable([NUM_CLASSES])\n",
    "\n",
    "    # ソフトマックス関数による正規化\n",
    "    with tf.name_scope('softmax') as scope:\n",
    "        y_conv=tf.nn.softmax(tf.matmul(h_fc1_drop, W_fc2) + b_fc2)\n",
    "\n",
    "    # 各ラベルの確率のようなものを返す\n",
    "    return y_conv"
   ]
  },
  {
   "cell_type": "code",
   "execution_count": 4,
   "metadata": {
    "ExecuteTime": {
     "end_time": "2017-01-23T21:44:42.423695",
     "start_time": "2017-01-23T21:44:42.408652"
    },
    "collapsed": false
   },
   "outputs": [
    {
     "ename": "SyntaxError",
     "evalue": "Missing parentheses in call to 'print' (<ipython-input-4-162c2c308bd9>, line 24)",
     "output_type": "error",
     "traceback": [
      "\u001b[0;36m  File \u001b[0;32m\"<ipython-input-4-162c2c308bd9>\"\u001b[0;36m, line \u001b[0;32m24\u001b[0m\n\u001b[0;31m    print pred\u001b[0m\n\u001b[0m             ^\u001b[0m\n\u001b[0;31mSyntaxError\u001b[0m\u001b[0;31m:\u001b[0m Missing parentheses in call to 'print'\n"
     ]
    }
   ],
   "source": [
    "if __name__ == '__main__':\n",
    "    test_image = []\n",
    "    for i in range(1, len(sys.argv)):\n",
    "        img = cv2.imread(sys.argv[i])\n",
    "        img = cv2.resize(img, (PIX, PIX))\n",
    "        test_image.append(img.flatten().astype(np.float32)/255.0)\n",
    "    test_image = np.asarray(test_image)\n",
    "\n",
    "    images_placeholder = tf.placeholder(\"float\", shape=(None, IMAGE_PIXELS))\n",
    "    labels_placeholder = tf.placeholder(\"float\", shape=(None, NUM_CLASSES))\n",
    "    keep_prob = tf.placeholder(tf.float32)\n",
    "\n",
    "    logits = inference(images_placeholder, keep_prob)\n",
    "    sess = tf.InteractiveSession()\n",
    "\n",
    "    saver = tf.train.Saver()\n",
    "    sess.run(tf.global_variables_initializer())\n",
    "    saver.restore(sess, \"kept\\model.ckpt\")\n",
    "\n",
    "    for i in range(len(test_image)):\n",
    "        pred = np.argmax(logits.eval(feed_dict={ \n",
    "            images_placeholder: [test_image[i]],\n",
    "            keep_prob: 1.0 })[0])\n",
    "        print(pred)"
   ]
  },
  {
   "cell_type": "code",
   "execution_count": null,
   "metadata": {
    "collapsed": true
   },
   "outputs": [],
   "source": []
  }
 ],
 "metadata": {
  "kernelspec": {
   "display_name": "Python [conda root]",
   "language": "python",
   "name": "conda-root-py"
  },
  "language_info": {
   "codemirror_mode": {
    "name": "ipython",
    "version": 3
   },
   "file_extension": ".py",
   "mimetype": "text/x-python",
   "name": "python",
   "nbconvert_exporter": "python",
   "pygments_lexer": "ipython3",
   "version": "3.5.2"
  },
  "latex_envs": {
   "bibliofile": "biblio.bib",
   "cite_by": "apalike",
   "current_citInitial": 1,
   "eqLabelWithNumbers": true,
   "eqNumInitial": 0
  }
 },
 "nbformat": 4,
 "nbformat_minor": 2
}
