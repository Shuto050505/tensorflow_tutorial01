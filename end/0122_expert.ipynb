{
 "cells": [
  {
   "cell_type": "code",
   "execution_count": 20,
   "metadata": {
    "ExecuteTime": {
     "end_time": "2017-01-23T12:57:39.914623",
     "start_time": "2017-01-23T12:57:39.910614"
    },
    "collapsed": true
   },
   "outputs": [],
   "source": [
    "import tensorflow as tf"
   ]
  },
  {
   "cell_type": "code",
   "execution_count": 21,
   "metadata": {
    "ExecuteTime": {
     "end_time": "2017-01-23T12:57:40.522126",
     "start_time": "2017-01-23T12:57:40.515614"
    },
    "collapsed": true
   },
   "outputs": [],
   "source": [
    "# Session確立\n",
    "sess = tf.InteractiveSession()"
   ]
  },
  {
   "cell_type": "code",
   "execution_count": 22,
   "metadata": {
    "ExecuteTime": {
     "end_time": "2017-01-23T12:57:41.579225",
     "start_time": "2017-01-23T12:57:41.057727"
    },
    "collapsed": false
   },
   "outputs": [
    {
     "name": "stdout",
     "output_type": "stream",
     "text": [
      "Extracting MNIST_data\\train-images-idx3-ubyte.gz\n",
      "Extracting MNIST_data\\train-labels-idx1-ubyte.gz\n",
      "Extracting MNIST_data\\t10k-images-idx3-ubyte.gz\n",
      "Extracting MNIST_data\\t10k-labels-idx1-ubyte.gz\n"
     ]
    }
   ],
   "source": [
    "# データ読み込み\n",
    "from tensorflow.examples.tutorials.mnist import input_data\n",
    "mnist = input_data.read_data_sets('MNIST_data', one_hot=True)"
   ]
  },
  {
   "cell_type": "code",
   "execution_count": 23,
   "metadata": {
    "ExecuteTime": {
     "end_time": "2017-01-23T12:57:42.156088",
     "start_time": "2017-01-23T12:57:42.139077"
    },
    "collapsed": true
   },
   "outputs": [],
   "source": [
    "# placeholder\n",
    "x = tf.placeholder(tf.float32, shape=[None, 784])\n",
    "y_ = tf.placeholder(tf.float32, shape=[None, 10])\n",
    "\n",
    "# variable\n",
    "W = tf.Variable(tf.zeros([784,10]))\n",
    "b = tf.Variable(tf.zeros([10]))\n",
    "#sess.run(tf.global_variables_initializer())"
   ]
  },
  {
   "cell_type": "code",
   "execution_count": 24,
   "metadata": {
    "ExecuteTime": {
     "end_time": "2017-01-23T12:57:42.702933",
     "start_time": "2017-01-23T12:57:42.693915"
    },
    "collapsed": true
   },
   "outputs": [],
   "source": [
    "# 画像を28x28にreshape\n",
    "# 4つめの引数はチャンネル数\n",
    "x_image = tf.reshape(x, [-1,28,28,1])"
   ]
  },
  {
   "cell_type": "code",
   "execution_count": 25,
   "metadata": {
    "ExecuteTime": {
     "end_time": "2017-01-23T12:57:43.366998",
     "start_time": "2017-01-23T12:57:43.338967"
    },
    "collapsed": true
   },
   "outputs": [],
   "source": [
    "# 第一層のweightsとbiasのvariable\n",
    "#　5*5*1のフィルターを32個\n",
    "W_conv1 = tf.Variable(tf.truncated_normal([5, 5, 1, 32], stddev=0.1))\n",
    "b_conv1 = tf.Variable(tf.constant(0.1, shape=[32]))\n",
    "\n",
    "# 第一層のconvolutionalとpool\n",
    "#　1つずつ移動\n",
    "#　2*2のフィルターを2個ずつ移動\n",
    "#　出力は14*14*32の画像\n",
    "h_conv1 = tf.nn.relu(tf.nn.conv2d(x_image, W_conv1, strides=[1, 1, 1, 1], padding='SAME') + b_conv1)\n",
    "h_pool1 = tf.nn.max_pool(h_conv1, ksize=[1, 2, 2, 1], strides=[1, 2, 2, 1], padding='SAME')"
   ]
  },
  {
   "cell_type": "code",
   "execution_count": 26,
   "metadata": {
    "ExecuteTime": {
     "end_time": "2017-01-23T12:57:43.954842",
     "start_time": "2017-01-23T12:57:43.924299"
    },
    "collapsed": true
   },
   "outputs": [],
   "source": [
    "# 第二層のweightsとbiasのvariable\n",
    "#　5*5*32のフィルターを64個\n",
    "W_conv2 = tf.Variable(tf.truncated_normal([5, 5, 32, 64], stddev=0.1))\n",
    "b_conv2 = tf.Variable(tf.constant(0.1, shape=[64]))\n",
    "\n",
    "# 第二層のconvolutionalとpool\n",
    "#　1つずつ移動\n",
    "#　2*2のフィルターを2個ずつ移動\n",
    "#　出力は7*7*64の画像\n",
    "h_conv2 = tf.nn.relu(tf.nn.conv2d(h_pool1, W_conv2, strides=[1, 1, 1, 1], padding='SAME') + b_conv2)\n",
    "h_pool2 = tf.nn.max_pool(h_conv2, ksize=[1, 2, 2, 1], strides=[1, 2, 2, 1], padding='SAME')"
   ]
  },
  {
   "cell_type": "code",
   "execution_count": 27,
   "metadata": {
    "ExecuteTime": {
     "end_time": "2017-01-23T12:57:44.422270",
     "start_time": "2017-01-23T12:57:44.387723"
    },
    "collapsed": true
   },
   "outputs": [],
   "source": [
    "# Relu層\n",
    "#　weightsとbiasのvariable\n",
    "W_fc1 = tf.Variable(tf.truncated_normal([7 * 7 * 64, 1024], stddev=0.1))\n",
    "b_fc1 = tf.Variable(tf.constant(0.1, shape=[1024]))\n",
    "\n",
    "#　ベクトルに再変換\n",
    "#　第一層と第二層でreduceされてできた特徴に対してrelu\n",
    "#　出力1024のベクトル\n",
    "h_pool2_flat = tf.reshape(h_pool2, [-1, 7*7*64])\n",
    "h_fc1 = tf.nn.relu(tf.matmul(h_pool2_flat, W_fc1) + b_fc1)"
   ]
  },
  {
   "cell_type": "code",
   "execution_count": 28,
   "metadata": {
    "ExecuteTime": {
     "end_time": "2017-01-23T12:57:45.039687",
     "start_time": "2017-01-23T12:57:45.022674"
    },
    "collapsed": true
   },
   "outputs": [],
   "source": [
    "# Dropout層\n",
    "#keep_prob: dropout率のplace_holder\n",
    "keep_prob = tf.placeholder(tf.float32)\n",
    "h_fc1_drop = tf.nn.dropout(h_fc1, keep_prob)"
   ]
  },
  {
   "cell_type": "code",
   "execution_count": 29,
   "metadata": {
    "ExecuteTime": {
     "end_time": "2017-01-23T12:57:45.445774",
     "start_time": "2017-01-23T12:57:45.421259"
    },
    "collapsed": true
   },
   "outputs": [],
   "source": [
    "# Softmax層\n",
    "W_fc2 = tf.Variable(tf.truncated_normal([1024, 10], stddev=0.1))\n",
    "b_fc2 = tf.Variable(tf.constant(0.1, shape=[10]))\n",
    "\n",
    "y_conv=tf.nn.softmax(tf.matmul(h_fc1_drop, W_fc2) + b_fc2)"
   ]
  },
  {
   "cell_type": "code",
   "execution_count": 30,
   "metadata": {
    "ExecuteTime": {
     "end_time": "2017-01-23T12:57:45.847491",
     "start_time": "2017-01-23T12:57:45.838472"
    },
    "collapsed": true
   },
   "outputs": [],
   "source": [
    "# 交差エントロピー層\n",
    "cross_entropy = -tf.reduce_sum(y_*tf.log(y_conv))"
   ]
  },
  {
   "cell_type": "code",
   "execution_count": 31,
   "metadata": {
    "ExecuteTime": {
     "end_time": "2017-01-23T12:57:46.512214",
     "start_time": "2017-01-23T12:57:46.267854"
    },
    "collapsed": true
   },
   "outputs": [],
   "source": [
    "# AdamOptimizerで最適化\n",
    "train_step = tf.train.AdamOptimizer(1e-4).minimize(cross_entropy)"
   ]
  },
  {
   "cell_type": "code",
   "execution_count": 32,
   "metadata": {
    "ExecuteTime": {
     "end_time": "2017-01-23T12:57:47.043961",
     "start_time": "2017-01-23T12:57:47.029198"
    },
    "collapsed": true
   },
   "outputs": [],
   "source": [
    "# accuracyを途中確認するための入れ物\n",
    "correct_prediction = tf.equal(tf.argmax(y_conv,1), tf.argmax(y_,1))\n",
    "accuracy = tf.reduce_mean(tf.cast(correct_prediction, tf.float32))"
   ]
  },
  {
   "cell_type": "code",
   "execution_count": 33,
   "metadata": {
    "ExecuteTime": {
     "end_time": "2017-01-23T12:57:48.080427",
     "start_time": "2017-01-23T12:57:47.834688"
    },
    "collapsed": false
   },
   "outputs": [],
   "source": [
    "# variable初期化\n",
    "sess.run(tf.global_variables_initializer())"
   ]
  },
  {
   "cell_type": "code",
   "execution_count": 40,
   "metadata": {
    "ExecuteTime": {
     "end_time": "2017-01-23T13:02:30.780123",
     "start_time": "2017-01-23T13:01:46.191359"
    },
    "collapsed": false,
    "scrolled": true
   },
   "outputs": [
    {
     "name": "stdout",
     "output_type": "stream",
     "text": [
      "step 0, training accuracy 0.15\n",
      "step 100, training accuracy 0.92\n",
      "step 200, training accuracy 0.94\n",
      "step 300, training accuracy 0.97\n",
      "step 400, training accuracy 0.97\n",
      "step 500, training accuracy 0.98\n",
      "step 600, training accuracy 0.89\n",
      "step 700, training accuracy 0.97\n",
      "step 800, training accuracy 0.96\n",
      "step 900, training accuracy 0.99\n",
      "step 1000, training accuracy 0.95\n",
      "step 1100, training accuracy 0.97\n",
      "step 1200, training accuracy 0.97\n",
      "step 1300, training accuracy 1\n",
      "step 1400, training accuracy 0.98\n",
      "step 1500, training accuracy 0.99\n",
      "step 1600, training accuracy 0.97\n",
      "step 1700, training accuracy 1\n",
      "step 1800, training accuracy 0.98\n",
      "step 1900, training accuracy 1\n"
     ]
    }
   ],
   "source": [
    "# accuracyを確認しつつtrain\n",
    "accracies = []\n",
    "\n",
    "#実行速度計測\n",
    "import time\n",
    "start = time.time()\n",
    "\n",
    "for i in range(2000):\n",
    "    batch_x, batch_y = mnist.train.next_batch(100)\n",
    "    if i%100 == 0:\n",
    "        train_accuracy = accuracy.eval(feed_dict={x:batch_x, y_: batch_y, keep_prob: 1.0})\n",
    "        accracies.append(train_accuracy)\n",
    "        print(\"step %d, training accuracy %g\"%(i, train_accuracy))\n",
    "        \n",
    "    train_step.run(feed_dict={x: batch_x, y_: batch_y, keep_prob: 0.5})\n",
    "\n",
    "elapsed_time = time.time() - start"
   ]
  },
  {
   "cell_type": "code",
   "execution_count": 19,
   "metadata": {
    "ExecuteTime": {
     "end_time": "2017-01-23T12:57:33.243357",
     "start_time": "2017-01-23T12:57:33.231368"
    },
    "collapsed": false
   },
   "outputs": [
    {
     "ename": "NameError",
     "evalue": "name 'elapsed_time' is not defined",
     "output_type": "error",
     "traceback": [
      "\u001b[0;31m---------------------------------------------------------------------------\u001b[0m",
      "\u001b[0;31mNameError\u001b[0m                                 Traceback (most recent call last)",
      "\u001b[0;32m<ipython-input-19-2fc39e289fa1>\u001b[0m in \u001b[0;36m<module>\u001b[0;34m()\u001b[0m\n\u001b[1;32m      1\u001b[0m \u001b[1;31m#実行速度 about 8min\u001b[0m\u001b[1;33m\u001b[0m\u001b[1;33m\u001b[0m\u001b[0m\n\u001b[0;32m----> 2\u001b[0;31m \u001b[0mprint\u001b[0m\u001b[1;33m(\u001b[0m\u001b[1;33m(\u001b[0m\u001b[1;34m\"finish_time: {0}\"\u001b[0m\u001b[1;33m.\u001b[0m\u001b[0mformat\u001b[0m\u001b[1;33m(\u001b[0m\u001b[0mint\u001b[0m\u001b[1;33m(\u001b[0m\u001b[0melapsed_time\u001b[0m\u001b[1;33m)\u001b[0m\u001b[1;33m)\u001b[0m\u001b[1;33m)\u001b[0m \u001b[1;33m+\u001b[0m \u001b[1;34m\" [sec]\"\u001b[0m\u001b[1;33m)\u001b[0m\u001b[1;33m\u001b[0m\u001b[0m\n\u001b[0m",
      "\u001b[0;31mNameError\u001b[0m: name 'elapsed_time' is not defined"
     ]
    }
   ],
   "source": [
    "#実行速度 about 8min\n",
    "print((\"finish_time: {0}\".format(int(elapsed_time))) + \" [sec]\")"
   ]
  },
  {
   "cell_type": "code",
   "execution_count": null,
   "metadata": {
    "ExecuteTime": {
     "end_time": "2017-01-23T12:56:15.511767",
     "start_time": "2017-01-23T03:56:07.048Z"
    },
    "collapsed": false
   },
   "outputs": [],
   "source": [
    "#10000枚の画像を投げるとキャパオーバーしてしまう（7000枚くらいが限界）\n",
    "mnist.test.images.shape"
   ]
  },
  {
   "cell_type": "code",
   "execution_count": null,
   "metadata": {
    "ExecuteTime": {
     "end_time": "2017-01-23T12:56:15.512750",
     "start_time": "2017-01-23T03:56:07.052Z"
    },
    "collapsed": false
   },
   "outputs": [],
   "source": [
    "# test_accuracyを表示1　バッチ処理で制御\n",
    "batch_tx, batch_ty = mnist.test.next_batch(7000)\n",
    "print(\"test accuracy %g\"%accuracy.eval(feed_dict={x:batch_tx, y_: batch_ty, keep_prob: 1.0}))\n",
    "  #=> 0.9923"
   ]
  },
  {
   "cell_type": "code",
   "execution_count": null,
   "metadata": {
    "ExecuteTime": {
     "end_time": "2017-01-23T12:56:15.512750",
     "start_time": "2017-01-23T03:56:07.055Z"
    },
    "collapsed": false
   },
   "outputs": [],
   "source": [
    "# test_accuracyを表示2　スライスで制御\n",
    "test_image = mnist.test.images[0:7000, :]\n",
    "test_label = mnist.test.labels[0:7000, :]\n",
    "print(\"test accuracy %g\"%accuracy.eval(feed_dict={x: test_image, y_: test_label, keep_prob: 1.0}))"
   ]
  },
  {
   "cell_type": "code",
   "execution_count": null,
   "metadata": {
    "collapsed": true
   },
   "outputs": [],
   "source": []
  }
 ],
 "metadata": {
  "kernelspec": {
   "display_name": "Python [conda root]",
   "language": "python",
   "name": "conda-root-py"
  },
  "language_info": {
   "codemirror_mode": {
    "name": "ipython",
    "version": 3
   },
   "file_extension": ".py",
   "mimetype": "text/x-python",
   "name": "python",
   "nbconvert_exporter": "python",
   "pygments_lexer": "ipython3",
   "version": "3.5.2"
  },
  "latex_envs": {
   "bibliofile": "biblio.bib",
   "cite_by": "apalike",
   "current_citInitial": 1,
   "eqLabelWithNumbers": true,
   "eqNumInitial": 0
  }
 },
 "nbformat": 4,
 "nbformat_minor": 2
}
